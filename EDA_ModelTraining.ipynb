{
 "cells": [
  {
   "cell_type": "code",
   "execution_count": null,
   "metadata": {
    "colab": {
     "base_uri": "https://localhost:8080/"
    },
    "id": "qxOTIeNu_8le",
    "outputId": "d9a2043c-9a42-43c0-eadb-d3cfdd8bb400"
   },
   "outputs": [
    {
     "name": "stdout",
     "output_type": "stream",
     "text": [
      "Drive already mounted at /content/drive; to attempt to forcibly remount, call drive.mount(\"/content/drive\", force_remount=True).\n"
     ]
    }
   ],
   "source": [
    "from google.colab import drive\n",
    "drive.mount('/content/drive')"
   ]
  },
  {
   "cell_type": "code",
   "execution_count": null,
   "metadata": {
    "colab": {
     "base_uri": "https://localhost:8080/"
    },
    "id": "fAgLv-Mq-Nsz",
    "outputId": "8af013c6-ad9e-407f-c048-4ed57ea67d50"
   },
   "outputs": [
    {
     "name": "stdout",
     "output_type": "stream",
     "text": [
      "[nltk_data] Downloading package stopwords to /root/nltk_data...\n",
      "[nltk_data]   Package stopwords is already up-to-date!\n",
      "[nltk_data] Downloading package wordnet to /root/nltk_data...\n",
      "[nltk_data]   Package wordnet is already up-to-date!\n",
      "[nltk_data] Downloading package punkt to /root/nltk_data...\n",
      "[nltk_data]   Package punkt is already up-to-date!\n"
     ]
    }
   ],
   "source": [
    "import pandas as pd\n",
    "import matplotlib.pyplot as plt\n",
    "import numpy as np\n",
    "from sklearn.feature_extraction.text import CountVectorizer\n",
    "from sklearn.feature_extraction.text import TfidfVectorizer\n",
    "import nltk\n",
    "nltk.download('stopwords')\n",
    "nltk.download('wordnet')\n",
    "nltk.download('punkt')\n",
    "from nltk.corpus import stopwords\n",
    "from nltk import word_tokenize\n",
    "from nltk.stem import WordNetLemmatizer\n",
    "from sklearn.naive_bayes import MultinomialNB\n",
    "from sklearn.model_selection import train_test_split\n",
    "from sklearn.metrics import classification_report, confusion_matrix"
   ]
  },
  {
   "cell_type": "code",
   "execution_count": null,
   "metadata": {
    "id": "d9kKcHsN-Ns9"
   },
   "outputs": [],
   "source": [
    "# import pandas as pd\n",
    "# import gzip\n",
    "\n",
    "# def parse(path):\n",
    "#     g = gzip.open(path, 'rb')\n",
    "#     for l in g:\n",
    "#         yield eval(l)\n",
    "\n",
    "# def getDF(path):\n",
    "#     i = 0\n",
    "#     df = {}\n",
    "#     for d in parse(path):\n",
    "#         if i % 10000 == 0:\n",
    "#             print(i)\n",
    "#         df[i] = d\n",
    "#         i += 1\n",
    "#         if i >= 100000:\n",
    "#             break\n",
    "#     return pd.DataFrame.from_dict(df, orient='index')"
   ]
  },
  {
   "cell_type": "code",
   "execution_count": null,
   "metadata": {
    "id": "KpiDAQbO-NtA"
   },
   "outputs": [],
   "source": [
    "# df = getDF('reviews_Electronics.json.gz')\n",
    "df = pd.read_csv('/content/drive/MyDrive/Professional/Break Through AI/BTAI Verizon Project/shortened_data.csv', index_col=[0])"
   ]
  },
  {
   "cell_type": "code",
   "execution_count": null,
   "metadata": {
    "colab": {
     "base_uri": "https://localhost:8080/",
     "height": 206
    },
    "id": "bYPHhglf-NtB",
    "outputId": "b7d9539d-4965-4680-bc10-b21c3fbe0f60"
   },
   "outputs": [
    {
     "data": {
      "text/html": [
       "<div>\n",
       "<style scoped>\n",
       "    .dataframe tbody tr th:only-of-type {\n",
       "        vertical-align: middle;\n",
       "    }\n",
       "\n",
       "    .dataframe tbody tr th {\n",
       "        vertical-align: top;\n",
       "    }\n",
       "\n",
       "    .dataframe thead th {\n",
       "        text-align: right;\n",
       "    }\n",
       "</style>\n",
       "<table border=\"1\" class=\"dataframe\">\n",
       "  <thead>\n",
       "    <tr style=\"text-align: right;\">\n",
       "      <th></th>\n",
       "      <th>reviewerID</th>\n",
       "      <th>asin</th>\n",
       "      <th>reviewerName</th>\n",
       "      <th>helpful</th>\n",
       "      <th>reviewText</th>\n",
       "      <th>overall</th>\n",
       "      <th>summary</th>\n",
       "      <th>unixReviewTime</th>\n",
       "      <th>reviewTime</th>\n",
       "    </tr>\n",
       "  </thead>\n",
       "  <tbody>\n",
       "    <tr>\n",
       "      <th>0</th>\n",
       "      <td>AKM1MP6P0OYPR</td>\n",
       "      <td>0132793040</td>\n",
       "      <td>Vicki Gibson \"momo4\"</td>\n",
       "      <td>[1, 1]</td>\n",
       "      <td>Corey Barker does a great job of explaining Bl...</td>\n",
       "      <td>5.0</td>\n",
       "      <td>Very thorough</td>\n",
       "      <td>1365811200</td>\n",
       "      <td>04 13, 2013</td>\n",
       "    </tr>\n",
       "    <tr>\n",
       "      <th>1</th>\n",
       "      <td>A2CX7LUOHB2NDG</td>\n",
       "      <td>0321732944</td>\n",
       "      <td>Bernie</td>\n",
       "      <td>[0, 0]</td>\n",
       "      <td>While many beginner DVDs try to teach you ever...</td>\n",
       "      <td>5.0</td>\n",
       "      <td>Adobe Photoshop CS5 Crash Course with master P...</td>\n",
       "      <td>1341100800</td>\n",
       "      <td>07 1, 2012</td>\n",
       "    </tr>\n",
       "    <tr>\n",
       "      <th>2</th>\n",
       "      <td>A2NWSAGRHCP8N5</td>\n",
       "      <td>0439886341</td>\n",
       "      <td>bowmans2007</td>\n",
       "      <td>[1, 1]</td>\n",
       "      <td>It never worked. My daughter worked to earn th...</td>\n",
       "      <td>1.0</td>\n",
       "      <td>absolutely horrible</td>\n",
       "      <td>1367193600</td>\n",
       "      <td>04 29, 2013</td>\n",
       "    </tr>\n",
       "    <tr>\n",
       "      <th>3</th>\n",
       "      <td>A2WNBOD3WNDNKT</td>\n",
       "      <td>0439886341</td>\n",
       "      <td>JAL</td>\n",
       "      <td>[1, 1]</td>\n",
       "      <td>Some of the functions did not work properly.  ...</td>\n",
       "      <td>3.0</td>\n",
       "      <td>Disappointing</td>\n",
       "      <td>1374451200</td>\n",
       "      <td>07 22, 2013</td>\n",
       "    </tr>\n",
       "    <tr>\n",
       "      <th>4</th>\n",
       "      <td>A1GI0U4ZRJA8WN</td>\n",
       "      <td>0439886341</td>\n",
       "      <td>Truthfull</td>\n",
       "      <td>[4, 4]</td>\n",
       "      <td>Do not waste your money on this thing it is te...</td>\n",
       "      <td>1.0</td>\n",
       "      <td>TERRIBLE DONT WASTE YOUR MONEY</td>\n",
       "      <td>1334707200</td>\n",
       "      <td>04 18, 2012</td>\n",
       "    </tr>\n",
       "  </tbody>\n",
       "</table>\n",
       "</div>"
      ],
      "text/plain": [
       "       reviewerID        asin  ... unixReviewTime   reviewTime\n",
       "0   AKM1MP6P0OYPR  0132793040  ...     1365811200  04 13, 2013\n",
       "1  A2CX7LUOHB2NDG  0321732944  ...     1341100800   07 1, 2012\n",
       "2  A2NWSAGRHCP8N5  0439886341  ...     1367193600  04 29, 2013\n",
       "3  A2WNBOD3WNDNKT  0439886341  ...     1374451200  07 22, 2013\n",
       "4  A1GI0U4ZRJA8WN  0439886341  ...     1334707200  04 18, 2012\n",
       "\n",
       "[5 rows x 9 columns]"
      ]
     },
     "execution_count": 5,
     "metadata": {},
     "output_type": "execute_result"
    }
   ],
   "source": [
    "df.head()"
   ]
  },
  {
   "cell_type": "code",
   "execution_count": null,
   "metadata": {
    "id": "uBNpwqai-NtF"
   },
   "outputs": [],
   "source": [
    "def sentiment(x):\n",
    "    if x >= 4:\n",
    "        return 1\n",
    "    elif x >= 3:\n",
    "        return 0\n",
    "    else:\n",
    "        return -1"
   ]
  },
  {
   "cell_type": "code",
   "execution_count": null,
   "metadata": {
    "id": "fY6Fj31_-NtE"
   },
   "outputs": [],
   "source": [
    "df['sentiment'] = df['overall'].apply(sentiment)"
   ]
  },
  {
   "cell_type": "code",
   "execution_count": null,
   "metadata": {
    "colab": {
     "base_uri": "https://localhost:8080/",
     "height": 258
    },
    "id": "vWuExX_I-NtH",
    "outputId": "c8b66448-3d0f-4ec2-e563-06617f71e1a2"
   },
   "outputs": [
    {
     "data": {
      "text/html": [
       "<div>\n",
       "<style scoped>\n",
       "    .dataframe tbody tr th:only-of-type {\n",
       "        vertical-align: middle;\n",
       "    }\n",
       "\n",
       "    .dataframe tbody tr th {\n",
       "        vertical-align: top;\n",
       "    }\n",
       "\n",
       "    .dataframe thead th {\n",
       "        text-align: right;\n",
       "    }\n",
       "</style>\n",
       "<table border=\"1\" class=\"dataframe\">\n",
       "  <thead>\n",
       "    <tr style=\"text-align: right;\">\n",
       "      <th></th>\n",
       "      <th>reviewerID</th>\n",
       "      <th>asin</th>\n",
       "      <th>reviewerName</th>\n",
       "      <th>helpful</th>\n",
       "      <th>reviewText</th>\n",
       "      <th>overall</th>\n",
       "      <th>summary</th>\n",
       "      <th>unixReviewTime</th>\n",
       "      <th>reviewTime</th>\n",
       "      <th>sentiment</th>\n",
       "    </tr>\n",
       "  </thead>\n",
       "  <tbody>\n",
       "    <tr>\n",
       "      <th>0</th>\n",
       "      <td>AKM1MP6P0OYPR</td>\n",
       "      <td>0132793040</td>\n",
       "      <td>Vicki Gibson \"momo4\"</td>\n",
       "      <td>[1, 1]</td>\n",
       "      <td>Corey Barker does a great job of explaining Bl...</td>\n",
       "      <td>5.0</td>\n",
       "      <td>Very thorough</td>\n",
       "      <td>1365811200</td>\n",
       "      <td>04 13, 2013</td>\n",
       "      <td>1</td>\n",
       "    </tr>\n",
       "    <tr>\n",
       "      <th>1</th>\n",
       "      <td>A2CX7LUOHB2NDG</td>\n",
       "      <td>0321732944</td>\n",
       "      <td>Bernie</td>\n",
       "      <td>[0, 0]</td>\n",
       "      <td>While many beginner DVDs try to teach you ever...</td>\n",
       "      <td>5.0</td>\n",
       "      <td>Adobe Photoshop CS5 Crash Course with master P...</td>\n",
       "      <td>1341100800</td>\n",
       "      <td>07 1, 2012</td>\n",
       "      <td>1</td>\n",
       "    </tr>\n",
       "    <tr>\n",
       "      <th>2</th>\n",
       "      <td>A2NWSAGRHCP8N5</td>\n",
       "      <td>0439886341</td>\n",
       "      <td>bowmans2007</td>\n",
       "      <td>[1, 1]</td>\n",
       "      <td>It never worked. My daughter worked to earn th...</td>\n",
       "      <td>1.0</td>\n",
       "      <td>absolutely horrible</td>\n",
       "      <td>1367193600</td>\n",
       "      <td>04 29, 2013</td>\n",
       "      <td>-1</td>\n",
       "    </tr>\n",
       "    <tr>\n",
       "      <th>3</th>\n",
       "      <td>A2WNBOD3WNDNKT</td>\n",
       "      <td>0439886341</td>\n",
       "      <td>JAL</td>\n",
       "      <td>[1, 1]</td>\n",
       "      <td>Some of the functions did not work properly.  ...</td>\n",
       "      <td>3.0</td>\n",
       "      <td>Disappointing</td>\n",
       "      <td>1374451200</td>\n",
       "      <td>07 22, 2013</td>\n",
       "      <td>0</td>\n",
       "    </tr>\n",
       "    <tr>\n",
       "      <th>4</th>\n",
       "      <td>A1GI0U4ZRJA8WN</td>\n",
       "      <td>0439886341</td>\n",
       "      <td>Truthfull</td>\n",
       "      <td>[4, 4]</td>\n",
       "      <td>Do not waste your money on this thing it is te...</td>\n",
       "      <td>1.0</td>\n",
       "      <td>TERRIBLE DONT WASTE YOUR MONEY</td>\n",
       "      <td>1334707200</td>\n",
       "      <td>04 18, 2012</td>\n",
       "      <td>-1</td>\n",
       "    </tr>\n",
       "  </tbody>\n",
       "</table>\n",
       "</div>"
      ],
      "text/plain": [
       "       reviewerID        asin  ...   reviewTime sentiment\n",
       "0   AKM1MP6P0OYPR  0132793040  ...  04 13, 2013         1\n",
       "1  A2CX7LUOHB2NDG  0321732944  ...   07 1, 2012         1\n",
       "2  A2NWSAGRHCP8N5  0439886341  ...  04 29, 2013        -1\n",
       "3  A2WNBOD3WNDNKT  0439886341  ...  07 22, 2013         0\n",
       "4  A1GI0U4ZRJA8WN  0439886341  ...  04 18, 2012        -1\n",
       "\n",
       "[5 rows x 10 columns]"
      ]
     },
     "execution_count": 8,
     "metadata": {},
     "output_type": "execute_result"
    }
   ],
   "source": [
    "df.head()"
   ]
  },
  {
   "cell_type": "code",
   "execution_count": null,
   "metadata": {
    "id": "OFU3vS506s-b"
   },
   "outputs": [],
   "source": [
    "df = df.sort_values(by='sentiment', axis=0).reset_index().drop(['index'], axis=1)"
   ]
  },
  {
   "cell_type": "code",
   "execution_count": null,
   "metadata": {
    "colab": {
     "base_uri": "https://localhost:8080/",
     "height": 275
    },
    "id": "jqBksSYa77Sa",
    "outputId": "e6cd83e9-0d3e-4384-cbba-d15017fd93d5"
   },
   "outputs": [
    {
     "data": {
      "text/html": [
       "<div>\n",
       "<style scoped>\n",
       "    .dataframe tbody tr th:only-of-type {\n",
       "        vertical-align: middle;\n",
       "    }\n",
       "\n",
       "    .dataframe tbody tr th {\n",
       "        vertical-align: top;\n",
       "    }\n",
       "\n",
       "    .dataframe thead th {\n",
       "        text-align: right;\n",
       "    }\n",
       "</style>\n",
       "<table border=\"1\" class=\"dataframe\">\n",
       "  <thead>\n",
       "    <tr style=\"text-align: right;\">\n",
       "      <th></th>\n",
       "      <th>reviewerID</th>\n",
       "      <th>asin</th>\n",
       "      <th>reviewerName</th>\n",
       "      <th>helpful</th>\n",
       "      <th>reviewText</th>\n",
       "      <th>overall</th>\n",
       "      <th>summary</th>\n",
       "      <th>unixReviewTime</th>\n",
       "      <th>reviewTime</th>\n",
       "      <th>sentiment</th>\n",
       "    </tr>\n",
       "  </thead>\n",
       "  <tbody>\n",
       "    <tr>\n",
       "      <th>119995</th>\n",
       "      <td>AYY03PZFCZM8U</td>\n",
       "      <td>B00003CWDQ</td>\n",
       "      <td>\"keeo\"</td>\n",
       "      <td>[37, 41]</td>\n",
       "      <td>I have a 36 inch Sony Wega TV, Pioneer DVC302D...</td>\n",
       "      <td>5.0</td>\n",
       "      <td>Monster Cable MP HTS800 HP Surge Protector</td>\n",
       "      <td>962064000</td>\n",
       "      <td>06 27, 2000</td>\n",
       "      <td>1</td>\n",
       "    </tr>\n",
       "    <tr>\n",
       "      <th>119996</th>\n",
       "      <td>A14Z5WB3DAFQGU</td>\n",
       "      <td>B00003CWDQ</td>\n",
       "      <td>Karl W. Mueller \"RevvedWeb.com\"</td>\n",
       "      <td>[1, 3]</td>\n",
       "      <td>Can't tell any difference as far as a cleaner ...</td>\n",
       "      <td>4.0</td>\n",
       "      <td>Guess it's fine - as long as it protects my sy...</td>\n",
       "      <td>1179360000</td>\n",
       "      <td>05 17, 2007</td>\n",
       "      <td>1</td>\n",
       "    </tr>\n",
       "    <tr>\n",
       "      <th>119997</th>\n",
       "      <td>A3GIZQAP2J6JLU</td>\n",
       "      <td>B00003CWDQ</td>\n",
       "      <td>K. Anderson \"Picky Consumer\"</td>\n",
       "      <td>[1, 6]</td>\n",
       "      <td>I have owned this power center for about a mon...</td>\n",
       "      <td>5.0</td>\n",
       "      <td>So Far So Good!</td>\n",
       "      <td>1166313600</td>\n",
       "      <td>12 17, 2006</td>\n",
       "      <td>1</td>\n",
       "    </tr>\n",
       "    <tr>\n",
       "      <th>119998</th>\n",
       "      <td>AHXN03152761I</td>\n",
       "      <td>B00003CWDQ</td>\n",
       "      <td>Jose Ramirez Garrido</td>\n",
       "      <td>[0, 1]</td>\n",
       "      <td>1st of all i did not get the one in the pictur...</td>\n",
       "      <td>5.0</td>\n",
       "      <td>Must have!!</td>\n",
       "      <td>1316390400</td>\n",
       "      <td>09 19, 2011</td>\n",
       "      <td>1</td>\n",
       "    </tr>\n",
       "    <tr>\n",
       "      <th>119999</th>\n",
       "      <td>AKM1MP6P0OYPR</td>\n",
       "      <td>0132793040</td>\n",
       "      <td>Vicki Gibson \"momo4\"</td>\n",
       "      <td>[1, 1]</td>\n",
       "      <td>Corey Barker does a great job of explaining Bl...</td>\n",
       "      <td>5.0</td>\n",
       "      <td>Very thorough</td>\n",
       "      <td>1365811200</td>\n",
       "      <td>04 13, 2013</td>\n",
       "      <td>1</td>\n",
       "    </tr>\n",
       "  </tbody>\n",
       "</table>\n",
       "</div>"
      ],
      "text/plain": [
       "            reviewerID        asin  ...   reviewTime sentiment\n",
       "119995   AYY03PZFCZM8U  B00003CWDQ  ...  06 27, 2000         1\n",
       "119996  A14Z5WB3DAFQGU  B00003CWDQ  ...  05 17, 2007         1\n",
       "119997  A3GIZQAP2J6JLU  B00003CWDQ  ...  12 17, 2006         1\n",
       "119998   AHXN03152761I  B00003CWDQ  ...  09 19, 2011         1\n",
       "119999   AKM1MP6P0OYPR  0132793040  ...  04 13, 2013         1\n",
       "\n",
       "[5 rows x 10 columns]"
      ]
     },
     "execution_count": 10,
     "metadata": {},
     "output_type": "execute_result"
    }
   ],
   "source": [
    "df.tail()"
   ]
  },
  {
   "cell_type": "code",
   "execution_count": null,
   "metadata": {
    "colab": {
     "base_uri": "https://localhost:8080/",
     "height": 545
    },
    "id": "lnznZzD37HOV",
    "outputId": "8771118e-3c17-4d3e-8fe9-06606b6d58c7"
   },
   "outputs": [
    {
     "data": {
      "text/html": [
       "<div>\n",
       "<style scoped>\n",
       "    .dataframe tbody tr th:only-of-type {\n",
       "        vertical-align: middle;\n",
       "    }\n",
       "\n",
       "    .dataframe tbody tr th {\n",
       "        vertical-align: top;\n",
       "    }\n",
       "\n",
       "    .dataframe thead th {\n",
       "        text-align: right;\n",
       "    }\n",
       "</style>\n",
       "<table border=\"1\" class=\"dataframe\">\n",
       "  <thead>\n",
       "    <tr style=\"text-align: right;\">\n",
       "      <th></th>\n",
       "      <th>reviewerID</th>\n",
       "      <th>asin</th>\n",
       "      <th>reviewerName</th>\n",
       "      <th>helpful</th>\n",
       "      <th>reviewText</th>\n",
       "      <th>overall</th>\n",
       "      <th>summary</th>\n",
       "      <th>unixReviewTime</th>\n",
       "      <th>reviewTime</th>\n",
       "      <th>sentiment</th>\n",
       "    </tr>\n",
       "  </thead>\n",
       "  <tbody>\n",
       "    <tr>\n",
       "      <th>0</th>\n",
       "      <td>A13T2XWEGL7DU7</td>\n",
       "      <td>B00005T406</td>\n",
       "      <td>Stuart Sweetow \"sweetow\"</td>\n",
       "      <td>[1, 8]</td>\n",
       "      <td>This is a cheap trackball mouse and not as goo...</td>\n",
       "      <td>1.0</td>\n",
       "      <td>Marble Mouse Not a Man</td>\n",
       "      <td>1182124800</td>\n",
       "      <td>06 18, 2007</td>\n",
       "      <td>-1</td>\n",
       "    </tr>\n",
       "    <tr>\n",
       "      <th>1</th>\n",
       "      <td>A3ROMB95RLWSHV</td>\n",
       "      <td>B00007FGU7</td>\n",
       "      <td>Clutch</td>\n",
       "      <td>[0, 0]</td>\n",
       "      <td>The cable I was shipped is not the one shown. ...</td>\n",
       "      <td>2.0</td>\n",
       "      <td>Not What was Shown</td>\n",
       "      <td>1387497600</td>\n",
       "      <td>12 20, 2013</td>\n",
       "      <td>-1</td>\n",
       "    </tr>\n",
       "    <tr>\n",
       "      <th>2</th>\n",
       "      <td>A22WDNLXFIETW5</td>\n",
       "      <td>B00007FGU7</td>\n",
       "      <td>Clintre</td>\n",
       "      <td>[1, 1]</td>\n",
       "      <td>Just has too much noise. Anything I hook up ha...</td>\n",
       "      <td>1.0</td>\n",
       "      <td>Buzz</td>\n",
       "      <td>1382486400</td>\n",
       "      <td>10 23, 2013</td>\n",
       "      <td>-1</td>\n",
       "    </tr>\n",
       "    <tr>\n",
       "      <th>3</th>\n",
       "      <td>A3RC8EMENZVZN6</td>\n",
       "      <td>B00007FGU7</td>\n",
       "      <td>Claudia R. Bautista</td>\n",
       "      <td>[0, 0]</td>\n",
       "      <td>The length is perfect for my dorm room but I t...</td>\n",
       "      <td>1.0</td>\n",
       "      <td>No good</td>\n",
       "      <td>1402531200</td>\n",
       "      <td>06 12, 2014</td>\n",
       "      <td>-1</td>\n",
       "    </tr>\n",
       "    <tr>\n",
       "      <th>4</th>\n",
       "      <td>AFT8YMKCMJ3GC</td>\n",
       "      <td>B00007FGU7</td>\n",
       "      <td>Chris R</td>\n",
       "      <td>[0, 0]</td>\n",
       "      <td>This cable does not connect properly and sound...</td>\n",
       "      <td>1.0</td>\n",
       "      <td>Bad Connection doesn't work</td>\n",
       "      <td>1397001600</td>\n",
       "      <td>04 9, 2014</td>\n",
       "      <td>-1</td>\n",
       "    </tr>\n",
       "    <tr>\n",
       "      <th>...</th>\n",
       "      <td>...</td>\n",
       "      <td>...</td>\n",
       "      <td>...</td>\n",
       "      <td>...</td>\n",
       "      <td>...</td>\n",
       "      <td>...</td>\n",
       "      <td>...</td>\n",
       "      <td>...</td>\n",
       "      <td>...</td>\n",
       "      <td>...</td>\n",
       "    </tr>\n",
       "    <tr>\n",
       "      <th>109995</th>\n",
       "      <td>ADW4R2F0W1MNE</td>\n",
       "      <td>B000023VUL</td>\n",
       "      <td>James McNeal</td>\n",
       "      <td>[7, 7]</td>\n",
       "      <td>I purchased this hub to increase the number of...</td>\n",
       "      <td>5.0</td>\n",
       "      <td>Great device at a great price</td>\n",
       "      <td>986342400</td>\n",
       "      <td>04 4, 2001</td>\n",
       "      <td>1</td>\n",
       "    </tr>\n",
       "    <tr>\n",
       "      <th>109996</th>\n",
       "      <td>A1ORUSHRRG0VWN</td>\n",
       "      <td>B000023VUL</td>\n",
       "      <td>F. A. Soares</td>\n",
       "      <td>[4, 4]</td>\n",
       "      <td>I bought this hub several months ago and I am ...</td>\n",
       "      <td>5.0</td>\n",
       "      <td>An awesome product</td>\n",
       "      <td>970358400</td>\n",
       "      <td>10 1, 2000</td>\n",
       "      <td>1</td>\n",
       "    </tr>\n",
       "    <tr>\n",
       "      <th>109997</th>\n",
       "      <td>A7IKOAH6M8WAC</td>\n",
       "      <td>B000023VUL</td>\n",
       "      <td>Eric</td>\n",
       "      <td>[2, 3]</td>\n",
       "      <td>I have had this for awhile and have not had an...</td>\n",
       "      <td>5.0</td>\n",
       "      <td>Works great!</td>\n",
       "      <td>1047859200</td>\n",
       "      <td>03 17, 2003</td>\n",
       "      <td>1</td>\n",
       "    </tr>\n",
       "    <tr>\n",
       "      <th>109998</th>\n",
       "      <td>A1PIHNRD8UIWEX</td>\n",
       "      <td>B000023VUL</td>\n",
       "      <td>D. Berglind</td>\n",
       "      <td>[7, 7]</td>\n",
       "      <td>This Hub is very small, easy to install, and i...</td>\n",
       "      <td>5.0</td>\n",
       "      <td>Simple to use/Easy on the wallet</td>\n",
       "      <td>964483200</td>\n",
       "      <td>07 25, 2000</td>\n",
       "      <td>1</td>\n",
       "    </tr>\n",
       "    <tr>\n",
       "      <th>109999</th>\n",
       "      <td>A33DOEB5Q8U8GH</td>\n",
       "      <td>B000023VUL</td>\n",
       "      <td>Daniel P Hernandez \"mallclerk\"</td>\n",
       "      <td>[1, 2]</td>\n",
       "      <td>Being an illustrator who works on a iMac I onl...</td>\n",
       "      <td>5.0</td>\n",
       "      <td>Too much stuff not enough holes</td>\n",
       "      <td>1009670400</td>\n",
       "      <td>12 30, 2001</td>\n",
       "      <td>1</td>\n",
       "    </tr>\n",
       "  </tbody>\n",
       "</table>\n",
       "<p>90000 rows × 10 columns</p>\n",
       "</div>"
      ],
      "text/plain": [
       "            reviewerID        asin  ...   reviewTime sentiment\n",
       "0       A13T2XWEGL7DU7  B00005T406  ...  06 18, 2007        -1\n",
       "1       A3ROMB95RLWSHV  B00007FGU7  ...  12 20, 2013        -1\n",
       "2       A22WDNLXFIETW5  B00007FGU7  ...  10 23, 2013        -1\n",
       "3       A3RC8EMENZVZN6  B00007FGU7  ...  06 12, 2014        -1\n",
       "4        AFT8YMKCMJ3GC  B00007FGU7  ...   04 9, 2014        -1\n",
       "...                ...         ...  ...          ...       ...\n",
       "109995   ADW4R2F0W1MNE  B000023VUL  ...   04 4, 2001         1\n",
       "109996  A1ORUSHRRG0VWN  B000023VUL  ...   10 1, 2000         1\n",
       "109997   A7IKOAH6M8WAC  B000023VUL  ...  03 17, 2003         1\n",
       "109998  A1PIHNRD8UIWEX  B000023VUL  ...  07 25, 2000         1\n",
       "109999  A33DOEB5Q8U8GH  B000023VUL  ...  12 30, 2001         1\n",
       "\n",
       "[90000 rows x 10 columns]"
      ]
     },
     "execution_count": 11,
     "metadata": {},
     "output_type": "execute_result"
    }
   ],
   "source": [
    "df.drop(labels=(range(30000, 40000)), axis=0, inplace=True)\n",
    "df.drop(labels=(range(70000, 80000)), axis=0, inplace=True)\n",
    "df.drop(labels=(range(110000, 120000)), axis=0, inplace=True)\n",
    "df"
   ]
  },
  {
   "cell_type": "code",
   "execution_count": null,
   "metadata": {
    "id": "ipyIQacV-NtJ"
   },
   "outputs": [],
   "source": [
    "df['reviewText'] = df['reviewText'].str.lower()"
   ]
  },
  {
   "cell_type": "code",
   "execution_count": null,
   "metadata": {
    "colab": {
     "base_uri": "https://localhost:8080/"
    },
    "id": "bOAkT8Bq8krO",
    "outputId": "fb07267f-a2cc-4278-92e0-835b8c918e7e"
   },
   "outputs": [
    {
     "data": {
      "text/plain": [
       "-1    30000\n",
       " 1    30000\n",
       " 0    30000\n",
       "Name: sentiment, dtype: int64"
      ]
     },
     "execution_count": 13,
     "metadata": {},
     "output_type": "execute_result"
    }
   ],
   "source": [
    "df['sentiment'].value_counts()"
   ]
  },
  {
   "cell_type": "code",
   "execution_count": null,
   "metadata": {
    "colab": {
     "base_uri": "https://localhost:8080/",
     "height": 206
    },
    "id": "uhq8eoEk-NtK",
    "outputId": "67bf9ac6-d90d-4d03-9cb0-b79c3b32c9aa"
   },
   "outputs": [
    {
     "data": {
      "text/html": [
       "<div>\n",
       "<style scoped>\n",
       "    .dataframe tbody tr th:only-of-type {\n",
       "        vertical-align: middle;\n",
       "    }\n",
       "\n",
       "    .dataframe tbody tr th {\n",
       "        vertical-align: top;\n",
       "    }\n",
       "\n",
       "    .dataframe thead th {\n",
       "        text-align: right;\n",
       "    }\n",
       "</style>\n",
       "<table border=\"1\" class=\"dataframe\">\n",
       "  <thead>\n",
       "    <tr style=\"text-align: right;\">\n",
       "      <th></th>\n",
       "      <th>reviewerID</th>\n",
       "      <th>asin</th>\n",
       "      <th>reviewerName</th>\n",
       "      <th>helpful</th>\n",
       "      <th>reviewText</th>\n",
       "      <th>overall</th>\n",
       "      <th>summary</th>\n",
       "      <th>unixReviewTime</th>\n",
       "      <th>reviewTime</th>\n",
       "      <th>sentiment</th>\n",
       "    </tr>\n",
       "  </thead>\n",
       "  <tbody>\n",
       "    <tr>\n",
       "      <th>0</th>\n",
       "      <td>A13T2XWEGL7DU7</td>\n",
       "      <td>B00005T406</td>\n",
       "      <td>Stuart Sweetow \"sweetow\"</td>\n",
       "      <td>[1, 8]</td>\n",
       "      <td>this is a cheap trackball mouse and not as goo...</td>\n",
       "      <td>1.0</td>\n",
       "      <td>Marble Mouse Not a Man</td>\n",
       "      <td>1182124800</td>\n",
       "      <td>06 18, 2007</td>\n",
       "      <td>-1</td>\n",
       "    </tr>\n",
       "    <tr>\n",
       "      <th>1</th>\n",
       "      <td>A3ROMB95RLWSHV</td>\n",
       "      <td>B00007FGU7</td>\n",
       "      <td>Clutch</td>\n",
       "      <td>[0, 0]</td>\n",
       "      <td>the cable i was shipped is not the one shown. ...</td>\n",
       "      <td>2.0</td>\n",
       "      <td>Not What was Shown</td>\n",
       "      <td>1387497600</td>\n",
       "      <td>12 20, 2013</td>\n",
       "      <td>-1</td>\n",
       "    </tr>\n",
       "    <tr>\n",
       "      <th>2</th>\n",
       "      <td>A22WDNLXFIETW5</td>\n",
       "      <td>B00007FGU7</td>\n",
       "      <td>Clintre</td>\n",
       "      <td>[1, 1]</td>\n",
       "      <td>just has too much noise. anything i hook up ha...</td>\n",
       "      <td>1.0</td>\n",
       "      <td>Buzz</td>\n",
       "      <td>1382486400</td>\n",
       "      <td>10 23, 2013</td>\n",
       "      <td>-1</td>\n",
       "    </tr>\n",
       "    <tr>\n",
       "      <th>3</th>\n",
       "      <td>A3RC8EMENZVZN6</td>\n",
       "      <td>B00007FGU7</td>\n",
       "      <td>Claudia R. Bautista</td>\n",
       "      <td>[0, 0]</td>\n",
       "      <td>the length is perfect for my dorm room but i t...</td>\n",
       "      <td>1.0</td>\n",
       "      <td>No good</td>\n",
       "      <td>1402531200</td>\n",
       "      <td>06 12, 2014</td>\n",
       "      <td>-1</td>\n",
       "    </tr>\n",
       "    <tr>\n",
       "      <th>4</th>\n",
       "      <td>AFT8YMKCMJ3GC</td>\n",
       "      <td>B00007FGU7</td>\n",
       "      <td>Chris R</td>\n",
       "      <td>[0, 0]</td>\n",
       "      <td>this cable does not connect properly and sound...</td>\n",
       "      <td>1.0</td>\n",
       "      <td>Bad Connection doesn't work</td>\n",
       "      <td>1397001600</td>\n",
       "      <td>04 9, 2014</td>\n",
       "      <td>-1</td>\n",
       "    </tr>\n",
       "  </tbody>\n",
       "</table>\n",
       "</div>"
      ],
      "text/plain": [
       "       reviewerID        asin  ...   reviewTime sentiment\n",
       "0  A13T2XWEGL7DU7  B00005T406  ...  06 18, 2007        -1\n",
       "1  A3ROMB95RLWSHV  B00007FGU7  ...  12 20, 2013        -1\n",
       "2  A22WDNLXFIETW5  B00007FGU7  ...  10 23, 2013        -1\n",
       "3  A3RC8EMENZVZN6  B00007FGU7  ...  06 12, 2014        -1\n",
       "4   AFT8YMKCMJ3GC  B00007FGU7  ...   04 9, 2014        -1\n",
       "\n",
       "[5 rows x 10 columns]"
      ]
     },
     "execution_count": 14,
     "metadata": {},
     "output_type": "execute_result"
    }
   ],
   "source": [
    "df.head()"
   ]
  },
  {
   "cell_type": "code",
   "execution_count": null,
   "metadata": {
    "id": "pWKU8MLO-NtO"
   },
   "outputs": [],
   "source": [
    "df.drop(['unixReviewTime', 'reviewTime'], axis=1, inplace=True)"
   ]
  },
  {
   "cell_type": "code",
   "execution_count": null,
   "metadata": {
    "id": "OaqhMfHzSWLO"
   },
   "outputs": [],
   "source": [
    "stopwords_to_keep = ['against', 'no', 'nor', 'not', 'don', \"don't\", 'should', \"should've\", 'aren', \"aren't\", 'couldn', \"couldn't\", 'didn', \"didn't\", 'doesn', \n",
    "                     \"doesn't\", 'hadn', \"hadn't\", 'hasn', \"hasn't\", 'haven', \"haven't\", 'isn', \"isn't\",\n",
    "                     'mustn', \"mustn't\", 'needn', \"needn't\", 'shan', \"shan't\", 'shouldn', \"shouldn't\", 'wasn', \"wasn't\", 'weren', \"weren't\", 'won', \"won't\", 'wouldn', \"wouldn't\"]"
   ]
  },
  {
   "cell_type": "code",
   "execution_count": null,
   "metadata": {
    "id": "vQDLSgHz-NtQ"
   },
   "outputs": [],
   "source": [
    "stop = stopwords.words('english')\n",
    "stop = list(set(stop).difference(set(stopwords_to_keep)))\n",
    "\n",
    "pat = r'\\b(?:{})\\b'.format('|'.join(stop))\n",
    "df['processed_text'] = df['reviewText'].str.replace(pat, '')\n",
    "df['processed_text'] = df['processed_text'].str.replace(r'\\s+', ' ')\n"
   ]
  },
  {
   "cell_type": "code",
   "execution_count": null,
   "metadata": {
    "colab": {
     "base_uri": "https://localhost:8080/",
     "height": 275
    },
    "id": "H5XdHQxu-NtR",
    "outputId": "205c7a8c-0651-437c-f338-8a8de91f1a4b"
   },
   "outputs": [
    {
     "data": {
      "text/html": [
       "<div>\n",
       "<style scoped>\n",
       "    .dataframe tbody tr th:only-of-type {\n",
       "        vertical-align: middle;\n",
       "    }\n",
       "\n",
       "    .dataframe tbody tr th {\n",
       "        vertical-align: top;\n",
       "    }\n",
       "\n",
       "    .dataframe thead th {\n",
       "        text-align: right;\n",
       "    }\n",
       "</style>\n",
       "<table border=\"1\" class=\"dataframe\">\n",
       "  <thead>\n",
       "    <tr style=\"text-align: right;\">\n",
       "      <th></th>\n",
       "      <th>reviewerID</th>\n",
       "      <th>asin</th>\n",
       "      <th>reviewerName</th>\n",
       "      <th>helpful</th>\n",
       "      <th>reviewText</th>\n",
       "      <th>overall</th>\n",
       "      <th>summary</th>\n",
       "      <th>sentiment</th>\n",
       "      <th>processed_text</th>\n",
       "    </tr>\n",
       "  </thead>\n",
       "  <tbody>\n",
       "    <tr>\n",
       "      <th>0</th>\n",
       "      <td>A13T2XWEGL7DU7</td>\n",
       "      <td>B00005T406</td>\n",
       "      <td>Stuart Sweetow \"sweetow\"</td>\n",
       "      <td>[1, 8]</td>\n",
       "      <td>this is a cheap trackball mouse and not as goo...</td>\n",
       "      <td>1.0</td>\n",
       "      <td>Marble Mouse Not a Man</td>\n",
       "      <td>-1</td>\n",
       "      <td>cheap trackball mouse not good microsoft trac...</td>\n",
       "    </tr>\n",
       "    <tr>\n",
       "      <th>1</th>\n",
       "      <td>A3ROMB95RLWSHV</td>\n",
       "      <td>B00007FGU7</td>\n",
       "      <td>Clutch</td>\n",
       "      <td>[0, 0]</td>\n",
       "      <td>the cable i was shipped is not the one shown. ...</td>\n",
       "      <td>2.0</td>\n",
       "      <td>Not What was Shown</td>\n",
       "      <td>-1</td>\n",
       "      <td>cable shipped not one shown. huge! instead si...</td>\n",
       "    </tr>\n",
       "    <tr>\n",
       "      <th>2</th>\n",
       "      <td>A22WDNLXFIETW5</td>\n",
       "      <td>B00007FGU7</td>\n",
       "      <td>Clintre</td>\n",
       "      <td>[1, 1]</td>\n",
       "      <td>just has too much noise. anything i hook up ha...</td>\n",
       "      <td>1.0</td>\n",
       "      <td>Buzz</td>\n",
       "      <td>-1</td>\n",
       "      <td>much noise. anything hook buzz sound . would ...</td>\n",
       "    </tr>\n",
       "    <tr>\n",
       "      <th>3</th>\n",
       "      <td>A3RC8EMENZVZN6</td>\n",
       "      <td>B00007FGU7</td>\n",
       "      <td>Claudia R. Bautista</td>\n",
       "      <td>[0, 0]</td>\n",
       "      <td>the length is perfect for my dorm room but i t...</td>\n",
       "      <td>1.0</td>\n",
       "      <td>No good</td>\n",
       "      <td>-1</td>\n",
       "      <td>length perfect dorm room tried 3 different he...</td>\n",
       "    </tr>\n",
       "    <tr>\n",
       "      <th>4</th>\n",
       "      <td>AFT8YMKCMJ3GC</td>\n",
       "      <td>B00007FGU7</td>\n",
       "      <td>Chris R</td>\n",
       "      <td>[0, 0]</td>\n",
       "      <td>this cable does not connect properly and sound...</td>\n",
       "      <td>1.0</td>\n",
       "      <td>Bad Connection doesn't work</td>\n",
       "      <td>-1</td>\n",
       "      <td>cable not connect properly sound distorted. u...</td>\n",
       "    </tr>\n",
       "  </tbody>\n",
       "</table>\n",
       "</div>"
      ],
      "text/plain": [
       "       reviewerID  ...                                     processed_text\n",
       "0  A13T2XWEGL7DU7  ...   cheap trackball mouse not good microsoft trac...\n",
       "1  A3ROMB95RLWSHV  ...   cable shipped not one shown. huge! instead si...\n",
       "2  A22WDNLXFIETW5  ...   much noise. anything hook buzz sound . would ...\n",
       "3  A3RC8EMENZVZN6  ...   length perfect dorm room tried 3 different he...\n",
       "4   AFT8YMKCMJ3GC  ...   cable not connect properly sound distorted. u...\n",
       "\n",
       "[5 rows x 9 columns]"
      ]
     },
     "execution_count": 18,
     "metadata": {},
     "output_type": "execute_result"
    }
   ],
   "source": [
    "df.head()"
   ]
  },
  {
   "cell_type": "code",
   "execution_count": null,
   "metadata": {
    "id": "uTBc2Ckb-NtR"
   },
   "outputs": [],
   "source": [
    "new_df = df.dropna()\n",
    "new_df = new_df.reset_index()"
   ]
  },
  {
   "cell_type": "code",
   "execution_count": null,
   "metadata": {
    "colab": {
     "base_uri": "https://localhost:8080/"
    },
    "id": "AULPrOPJuXd6",
    "outputId": "8c4b2c2c-cb68-4419-97ea-89ae15f4bcab"
   },
   "outputs": [
    {
     "data": {
      "text/plain": [
       "-1    29926\n",
       " 0    29920\n",
       " 1    29869\n",
       "Name: sentiment, dtype: int64"
      ]
     },
     "execution_count": 20,
     "metadata": {},
     "output_type": "execute_result"
    }
   ],
   "source": [
    "new_df['sentiment'].value_counts()"
   ]
  },
  {
   "cell_type": "code",
   "execution_count": null,
   "metadata": {
    "colab": {
     "base_uri": "https://localhost:8080/",
     "height": 293
    },
    "id": "61GHl8kF-NtS",
    "outputId": "eaa08727-72a8-4a5b-fe08-d2f96dd10e19"
   },
   "outputs": [
    {
     "data": {
      "text/html": [
       "<div>\n",
       "<style scoped>\n",
       "    .dataframe tbody tr th:only-of-type {\n",
       "        vertical-align: middle;\n",
       "    }\n",
       "\n",
       "    .dataframe tbody tr th {\n",
       "        vertical-align: top;\n",
       "    }\n",
       "\n",
       "    .dataframe thead th {\n",
       "        text-align: right;\n",
       "    }\n",
       "</style>\n",
       "<table border=\"1\" class=\"dataframe\">\n",
       "  <thead>\n",
       "    <tr style=\"text-align: right;\">\n",
       "      <th></th>\n",
       "      <th>index</th>\n",
       "      <th>reviewerID</th>\n",
       "      <th>asin</th>\n",
       "      <th>reviewerName</th>\n",
       "      <th>helpful</th>\n",
       "      <th>reviewText</th>\n",
       "      <th>overall</th>\n",
       "      <th>summary</th>\n",
       "      <th>sentiment</th>\n",
       "      <th>processed_text</th>\n",
       "    </tr>\n",
       "  </thead>\n",
       "  <tbody>\n",
       "    <tr>\n",
       "      <th>0</th>\n",
       "      <td>0</td>\n",
       "      <td>A13T2XWEGL7DU7</td>\n",
       "      <td>B00005T406</td>\n",
       "      <td>Stuart Sweetow \"sweetow\"</td>\n",
       "      <td>[1, 8]</td>\n",
       "      <td>this is a cheap trackball mouse and not as goo...</td>\n",
       "      <td>1.0</td>\n",
       "      <td>Marble Mouse Not a Man</td>\n",
       "      <td>-1</td>\n",
       "      <td>cheap trackball mouse not good microsoft trac...</td>\n",
       "    </tr>\n",
       "    <tr>\n",
       "      <th>1</th>\n",
       "      <td>1</td>\n",
       "      <td>A3ROMB95RLWSHV</td>\n",
       "      <td>B00007FGU7</td>\n",
       "      <td>Clutch</td>\n",
       "      <td>[0, 0]</td>\n",
       "      <td>the cable i was shipped is not the one shown. ...</td>\n",
       "      <td>2.0</td>\n",
       "      <td>Not What was Shown</td>\n",
       "      <td>-1</td>\n",
       "      <td>cable shipped not one shown. huge! instead si...</td>\n",
       "    </tr>\n",
       "    <tr>\n",
       "      <th>2</th>\n",
       "      <td>2</td>\n",
       "      <td>A22WDNLXFIETW5</td>\n",
       "      <td>B00007FGU7</td>\n",
       "      <td>Clintre</td>\n",
       "      <td>[1, 1]</td>\n",
       "      <td>just has too much noise. anything i hook up ha...</td>\n",
       "      <td>1.0</td>\n",
       "      <td>Buzz</td>\n",
       "      <td>-1</td>\n",
       "      <td>much noise. anything hook buzz sound . would ...</td>\n",
       "    </tr>\n",
       "    <tr>\n",
       "      <th>3</th>\n",
       "      <td>3</td>\n",
       "      <td>A3RC8EMENZVZN6</td>\n",
       "      <td>B00007FGU7</td>\n",
       "      <td>Claudia R. Bautista</td>\n",
       "      <td>[0, 0]</td>\n",
       "      <td>the length is perfect for my dorm room but i t...</td>\n",
       "      <td>1.0</td>\n",
       "      <td>No good</td>\n",
       "      <td>-1</td>\n",
       "      <td>length perfect dorm room tried 3 different he...</td>\n",
       "    </tr>\n",
       "    <tr>\n",
       "      <th>4</th>\n",
       "      <td>4</td>\n",
       "      <td>AFT8YMKCMJ3GC</td>\n",
       "      <td>B00007FGU7</td>\n",
       "      <td>Chris R</td>\n",
       "      <td>[0, 0]</td>\n",
       "      <td>this cable does not connect properly and sound...</td>\n",
       "      <td>1.0</td>\n",
       "      <td>Bad Connection doesn't work</td>\n",
       "      <td>-1</td>\n",
       "      <td>cable not connect properly sound distorted. u...</td>\n",
       "    </tr>\n",
       "  </tbody>\n",
       "</table>\n",
       "</div>"
      ],
      "text/plain": [
       "   index  ...                                     processed_text\n",
       "0      0  ...   cheap trackball mouse not good microsoft trac...\n",
       "1      1  ...   cable shipped not one shown. huge! instead si...\n",
       "2      2  ...   much noise. anything hook buzz sound . would ...\n",
       "3      3  ...   length perfect dorm room tried 3 different he...\n",
       "4      4  ...   cable not connect properly sound distorted. u...\n",
       "\n",
       "[5 rows x 10 columns]"
      ]
     },
     "execution_count": 21,
     "metadata": {},
     "output_type": "execute_result"
    }
   ],
   "source": [
    "new_df.head()"
   ]
  },
  {
   "cell_type": "code",
   "execution_count": null,
   "metadata": {
    "id": "fiMXK3Zw-NtT"
   },
   "outputs": [],
   "source": [
    "positive_reviews = new_df[new_df['sentiment'] == 1]\n",
    "neutral_reviews = new_df[new_df['sentiment'] == 0]\n",
    "negative_reviews = new_df[new_df['sentiment'] == -1]"
   ]
  },
  {
   "cell_type": "markdown",
   "metadata": {
    "id": "2LqH64B7NjrV"
   },
   "source": [
    "## Distribution of sentiment/reviews of given data\n",
    "\n"
   ]
  },
  {
   "cell_type": "code",
   "execution_count": null,
   "metadata": {
    "colab": {
     "base_uri": "https://localhost:8080/"
    },
    "id": "5Hoo_0fpNvhq",
    "outputId": "11922235-7e3e-40c8-c5d7-058629e934c8"
   },
   "outputs": [
    {
     "data": {
      "image/png": "[encoded data removed]",
      "text/plain": [
       "<Figure size 432x288 with 1 Axes>"
      ]
     },
     "metadata": {
      "needs_background": "light"
     },
     "output_type": "display_data"
    }
   ],
   "source": [
    "fivestar = df[df[\"overall\"] == 5.0].count()\n",
    "fourstar = df[df[\"overall\"] == 4.0].count()\n",
    "threestar = df[df[\"overall\"] == 3.0].count()\n",
    "twostar = df[df[\"overall\"] == 2.0].count()\n",
    "onestar = df[df[\"overall\"] == 1.0].count()\n",
    "ratingnumber = [onestar[\"overall\"], twostar[\"overall\"], threestar[\"overall\"], fourstar[\"overall\"], fivestar[\"overall\"]]\n",
    "rating = [1.0, 2.0, 3.0, 4.0, 5.0]\n",
    "\n",
    "plt.barh(rating, ratingnumber)\n",
    "plt.show()"
   ]
  },
  {
   "cell_type": "code",
   "execution_count": null,
   "metadata": {
    "colab": {
     "base_uri": "https://localhost:8080/"
    },
    "id": "YCRVE2laGOLv",
    "outputId": "ba6363bd-f36e-43a0-90dd-d08ea7ddc77c"
   },
   "outputs": [
    {
     "data": {
      "image/png": "[encoded data removed]",
      "text/plain": [
       "<Figure size 432x288 with 1 Axes>"
      ]
     },
     "metadata": {
      "needs_background": "light"
     },
     "output_type": "display_data"
    }
   ],
   "source": [
    "negative = df[df[\"sentiment\"] == -1].count()\n",
    "neutral = df[df[\"sentiment\"] == 0].count()\n",
    "positive = df[df[\"sentiment\"] == 1].count()\n",
    "ratingnumber = [negative['sentiment'], neutral['sentiment'], positive['sentiment']]\n",
    "rating = [-1, 0, 1]\n",
    "\n",
    "plt.barh(rating, ratingnumber)\n",
    "plt.show()"
   ]
  },
  {
   "cell_type": "markdown",
   "metadata": {
    "id": "FFP7i0o1iwP3"
   },
   "source": [
    "# Lemmatization"
   ]
  },
  {
   "cell_type": "code",
   "execution_count": null,
   "metadata": {
    "id": "Aori-ynmiwyA"
   },
   "outputs": [],
   "source": [
    "lemmatizer = WordNetLemmatizer()\n",
    "new_df['lemmatized_text'] = new_df['processed_text'].apply(lambda x: ' '.join([lemmatizer.lemmatize(y) for y in word_tokenize(x)]))"
   ]
  },
  {
   "cell_type": "markdown",
   "metadata": {
    "id": "Yy7XWhBZTPuK"
   },
   "source": [
    "# Frequency of Words Based on Sentiment\n"
   ]
  },
  {
   "cell_type": "code",
   "execution_count": null,
   "metadata": {
    "id": "f8Fi-dDq-NtR"
   },
   "outputs": [],
   "source": [
    "# exclude words that appear in fewer than 5% of reviews or more than 90% of reviews\n",
    "vectorizer = CountVectorizer(min_df=.01, max_df = .95)"
   ]
  },
  {
   "cell_type": "code",
   "execution_count": null,
   "metadata": {
    "id": "YJ0VuwY8-NtS"
   },
   "outputs": [],
   "source": [
    "X = vectorizer.fit_transform(new_df['lemmatized_text'])"
   ]
  },
  {
   "cell_type": "code",
   "execution_count": null,
   "metadata": {
    "colab": {
     "base_uri": "https://localhost:8080/"
    },
    "id": "XFnrClo3-NtS",
    "outputId": "a42a7ebe-de6d-4978-d4fc-c8cac958640d"
   },
   "outputs": [
    {
     "data": {
      "text/plain": [
       "(89715, 843)"
      ]
     },
     "execution_count": 28,
     "metadata": {},
     "output_type": "execute_result"
    }
   ],
   "source": [
    "X.shape"
   ]
  },
  {
   "cell_type": "code",
   "execution_count": null,
   "metadata": {
    "id": "TucOWYSI-NtT"
   },
   "outputs": [],
   "source": [
    "pos_feats = X[new_df[new_df['sentiment'] == 1].index, :] \n",
    "neut_feats =  X[new_df[new_df['sentiment'] == 0].index, :]\n",
    "neg_feats =  X[new_df[new_df['sentiment'] == -1].index, :]"
   ]
  },
  {
   "cell_type": "code",
   "execution_count": null,
   "metadata": {
    "id": "k4CnarAc-NtU"
   },
   "outputs": [],
   "source": [
    "def plot_top_ten_features(features, feature_names):\n",
    "    features = np.array(features)[0]\n",
    "    top_ten_features = features.argsort()[-10:]\n",
    "    top_ten_words = dict()\n",
    "    for i in top_ten_features:\n",
    "        word = feature_names[i]\n",
    "        top_ten_words[word] = features[i] \n",
    "        \n",
    "    plt.bar(top_ten_words.keys(), top_ten_words.values())"
   ]
  },
  {
   "cell_type": "code",
   "execution_count": null,
   "metadata": {
    "colab": {
     "base_uri": "https://localhost:8080/",
     "height": 428
    },
    "id": "ZoP-H4CG-NtU",
    "outputId": "697a04c4-c804-492c-81a0-8244fdc460bd"
   },
   "outputs": [
    {
     "name": "stderr",
     "output_type": "stream",
     "text": [
      "/usr/local/lib/python3.7/dist-packages/sklearn/utils/deprecation.py:87: FutureWarning: Function get_feature_names is deprecated; get_feature_names is deprecated in 1.0 and will be removed in 1.2. Please use get_feature_names_out instead.\n",
      "  warnings.warn(msg, category=FutureWarning)\n"
     ]
    },
    {
     "data": {
      "image/png": "[encoded data removed]",
      "text/plain": [
       "<Figure size 1080x432 with 1 Axes>"
      ]
     },
     "metadata": {
      "needs_background": "light"
     },
     "output_type": "display_data"
    }
   ],
   "source": [
    "plt.figure(figsize=(15, 6))\n",
    "positive_feature_counts = np.sum(pos_feats, axis=0)\n",
    "plot_top_ten_features(positive_feature_counts, vectorizer.get_feature_names())"
   ]
  },
  {
   "cell_type": "code",
   "execution_count": null,
   "metadata": {
    "colab": {
     "base_uri": "https://localhost:8080/",
     "height": 428
    },
    "id": "M1PTEgBt-NtV",
    "outputId": "4b5a5305-4056-43f7-f640-59e193a94ad5"
   },
   "outputs": [
    {
     "name": "stderr",
     "output_type": "stream",
     "text": [
      "/usr/local/lib/python3.7/dist-packages/sklearn/utils/deprecation.py:87: FutureWarning: Function get_feature_names is deprecated; get_feature_names is deprecated in 1.0 and will be removed in 1.2. Please use get_feature_names_out instead.\n",
      "  warnings.warn(msg, category=FutureWarning)\n"
     ]
    },
    {
     "data": {
      "image/png": "[encoded data removed]",
      "text/plain": [
       "<Figure size 1080x432 with 1 Axes>"
      ]
     },
     "metadata": {
      "needs_background": "light"
     },
     "output_type": "display_data"
    }
   ],
   "source": [
    "plt.figure(figsize=(15, 6))\n",
    "negative_feature_counts = np.sum(neg_feats, axis=0)\n",
    "plot_top_ten_features(negative_feature_counts, vectorizer.get_feature_names())"
   ]
  },
  {
   "cell_type": "code",
   "execution_count": null,
   "metadata": {
    "colab": {
     "base_uri": "https://localhost:8080/",
     "height": 428
    },
    "id": "0J_3hRF1-NtV",
    "outputId": "e534adfa-cd1e-40e3-f14b-773440be445c"
   },
   "outputs": [
    {
     "name": "stderr",
     "output_type": "stream",
     "text": [
      "/usr/local/lib/python3.7/dist-packages/sklearn/utils/deprecation.py:87: FutureWarning: Function get_feature_names is deprecated; get_feature_names is deprecated in 1.0 and will be removed in 1.2. Please use get_feature_names_out instead.\n",
      "  warnings.warn(msg, category=FutureWarning)\n"
     ]
    },
    {
     "data": {
      "image/png": "[encoded data removed]",
      "text/plain": [
       "<Figure size 1080x432 with 1 Axes>"
      ]
     },
     "metadata": {
      "needs_background": "light"
     },
     "output_type": "display_data"
    }
   ],
   "source": [
    "plt.figure(figsize=(15, 6))\n",
    "neutral_feature_counts = np.sum(neut_feats, axis=0)\n",
    "plot_top_ten_features(neutral_feature_counts, vectorizer.get_feature_names())"
   ]
  },
  {
   "cell_type": "markdown",
   "metadata": {
    "id": "7NWVXRyQIEAA"
   },
   "source": [
    "# Baseline Model - Naive Bayes with CountVectorizer"
   ]
  },
  {
   "cell_type": "code",
   "execution_count": null,
   "metadata": {
    "id": "B4Ns6oD7KCx1"
   },
   "outputs": [],
   "source": [
    "vectorizer = CountVectorizer(min_df = 0.01, max_df=0.95)\n",
    "X = vectorizer.fit_transform(new_df['lemmatized_text'])"
   ]
  },
  {
   "cell_type": "code",
   "execution_count": null,
   "metadata": {
    "id": "wuot2KSmG8zA"
   },
   "outputs": [],
   "source": [
    "y = new_df['sentiment']"
   ]
  },
  {
   "cell_type": "code",
   "execution_count": null,
   "metadata": {
    "id": "h3fOEfASHGBg"
   },
   "outputs": [],
   "source": [
    "X_train, X_test, y_train, y_test = train_test_split(X, y, test_size = 0.2)"
   ]
  },
  {
   "cell_type": "code",
   "execution_count": null,
   "metadata": {
    "colab": {
     "base_uri": "https://localhost:8080/"
    },
    "id": "TV5g5-xwHQUq",
    "outputId": "f0259d55-c412-4946-a244-31d2926cd01a"
   },
   "outputs": [
    {
     "data": {
      "text/plain": [
       "MultinomialNB()"
      ]
     },
     "execution_count": 37,
     "metadata": {},
     "output_type": "execute_result"
    }
   ],
   "source": [
    "model = MultinomialNB()\n",
    "model.fit(X_train, y_train)"
   ]
  },
  {
   "cell_type": "code",
   "execution_count": null,
   "metadata": {
    "id": "8zbTa8zOHcNB"
   },
   "outputs": [],
   "source": [
    "preds = model.predict(X_test)"
   ]
  },
  {
   "cell_type": "code",
   "execution_count": null,
   "metadata": {
    "colab": {
     "base_uri": "https://localhost:8080/"
    },
    "id": "I0xfhsExHk05",
    "outputId": "3e1b31fc-7179-4dfd-b9bb-b5f50f91c4fa"
   },
   "outputs": [
    {
     "name": "stdout",
     "output_type": "stream",
     "text": [
      "              precision    recall  f1-score   support\n",
      "\n",
      "          -1       0.63      0.66      0.65      6051\n",
      "           0       0.58      0.56      0.57      5905\n",
      "           1       0.72      0.72      0.72      5987\n",
      "\n",
      "    accuracy                           0.65     17943\n",
      "   macro avg       0.65      0.65      0.65     17943\n",
      "weighted avg       0.65      0.65      0.65     17943\n",
      "\n"
     ]
    }
   ],
   "source": [
    "print(classification_report(y_test, preds))"
   ]
  },
  {
   "cell_type": "code",
   "execution_count": null,
   "metadata": {
    "colab": {
     "base_uri": "https://localhost:8080/"
    },
    "id": "VodKDrtJHpMV",
    "outputId": "a77c877b-a948-4bd5-c17d-1f1c3e5a5fb2"
   },
   "outputs": [
    {
     "name": "stdout",
     "output_type": "stream",
     "text": [
      "[[4003 1474  574]\n",
      " [1531 3285 1089]\n",
      " [ 774  881 4332]]\n"
     ]
    }
   ],
   "source": [
    "print(confusion_matrix(y_test, preds))"
   ]
  },
  {
   "cell_type": "code",
   "execution_count": null,
   "metadata": {
    "id": "FPWfntQ2OuYL"
   },
   "outputs": [],
   "source": []
  },
  {
   "cell_type": "markdown",
   "metadata": {
    "id": "8Y9Q-8OePkZz"
   },
   "source": [
    "# Other SKlearn Classification Models\n"
   ]
  },
  {
   "cell_type": "code",
   "execution_count": null,
   "metadata": {
    "colab": {
     "base_uri": "https://localhost:8080/"
    },
    "id": "vgzJOoPWOQaU",
    "outputId": "b3c2f6b6-3337-4454-8694-a6c203c0f836"
   },
   "outputs": [
    {
     "name": "stdout",
     "output_type": "stream",
     "text": [
      "              precision    recall  f1-score   support\n",
      "\n",
      "          -1       0.69      0.68      0.69      6051\n",
      "           0       0.58      0.58      0.58      5905\n",
      "           1       0.74      0.75      0.74      5987\n",
      "\n",
      "    accuracy                           0.67     17943\n",
      "   macro avg       0.67      0.67      0.67     17943\n",
      "weighted avg       0.67      0.67      0.67     17943\n",
      "\n"
     ]
    },
    {
     "name": "stderr",
     "output_type": "stream",
     "text": [
      "/usr/local/lib/python3.7/dist-packages/sklearn/neural_network/_multilayer_perceptron.py:549: ConvergenceWarning: lbfgs failed to converge (status=1):\n",
      "STOP: TOTAL NO. of ITERATIONS REACHED LIMIT.\n",
      "\n",
      "Increase the number of iterations (max_iter) or scale the data as shown in:\n",
      "    https://scikit-learn.org/stable/modules/preprocessing.html\n",
      "  self.n_iter_ = _check_optimize_result(\"lbfgs\", opt_res, self.max_iter)\n"
     ]
    }
   ],
   "source": [
    "from sklearn.neural_network import MLPClassifier\n",
    "\n",
    "clf = MLPClassifier(solver='lbfgs', alpha=1e-5,\n",
    "hidden_layer_sizes=(15, 5), random_state=3)\n",
    "\n",
    "clf.fit(X_train, y_train)\n",
    "MLPClassifier(alpha=1e-05, hidden_layer_sizes=(15, 5), random_state=3,\n",
    "              solver='lbfgs')\n",
    "preds1 = clf.predict(X_test)\n",
    "print(classification_report(y_test, preds1))"
   ]
  },
  {
   "cell_type": "code",
   "execution_count": null,
   "metadata": {
    "colab": {
     "base_uri": "https://localhost:8080/"
    },
    "id": "QGf7_1UfOThV",
    "outputId": "52ae1b59-1415-4c00-acb1-f93c2dc4b6f0"
   },
   "outputs": [
    {
     "name": "stderr",
     "output_type": "stream",
     "text": [
      "/usr/local/lib/python3.7/dist-packages/sklearn/linear_model/_stochastic_gradient.py:700: ConvergenceWarning: Maximum number of iteration reached before convergence. Consider increasing max_iter to improve the fit.\n",
      "  ConvergenceWarning,\n"
     ]
    },
    {
     "name": "stdout",
     "output_type": "stream",
     "text": [
      "              precision    recall  f1-score   support\n",
      "\n",
      "          -1       0.69      0.70      0.70      6051\n",
      "           0       0.62      0.54      0.57      5905\n",
      "           1       0.72      0.81      0.76      5987\n",
      "\n",
      "    accuracy                           0.68     17943\n",
      "   macro avg       0.68      0.68      0.68     17943\n",
      "weighted avg       0.68      0.68      0.68     17943\n",
      "\n"
     ]
    }
   ],
   "source": [
    "from sklearn.linear_model import SGDClassifier\n",
    "clf = SGDClassifier(loss=\"hinge\", penalty=\"l2\", max_iter=50)\n",
    "clf.fit(X_train, y_train)\n",
    "SGDClassifier(max_iter=50)\n",
    "clf = SGDClassifier(loss=\"log\", max_iter=50).fit(X_train, y_train)\n",
    "preds2 = clf.predict(X_test)\n",
    "print(classification_report(y_test, preds2))"
   ]
  },
  {
   "cell_type": "markdown",
   "metadata": {
    "id": "n4p4hVy5PpsW"
   },
   "source": [
    "# SKlearn Classification Models with Bag-of-Words + Bigrams"
   ]
  },
  {
   "cell_type": "code",
   "execution_count": null,
   "metadata": {
    "id": "HI9k4u6cPvMI"
   },
   "outputs": [],
   "source": [
    "bigram_vectorizer = CountVectorizer(ngram_range=(2, 2))\n",
    "X = bigram_vectorizer.fit_transform(new_df['processed_text'])"
   ]
  },
  {
   "cell_type": "code",
   "execution_count": null,
   "metadata": {
    "colab": {
     "base_uri": "https://localhost:8080/"
    },
    "id": "M4xUaDlBQFrf",
    "outputId": "d7478945-0c52-40c1-869d-9bd6b28517c8"
   },
   "outputs": [
    {
     "data": {
      "text/plain": [
       "(89715, 1972845)"
      ]
     },
     "execution_count": 44,
     "metadata": {},
     "output_type": "execute_result"
    }
   ],
   "source": [
    "X.shape"
   ]
  },
  {
   "cell_type": "code",
   "execution_count": null,
   "metadata": {
    "id": "KCsnPYJKQBxz"
   },
   "outputs": [],
   "source": [
    "X_train, X_test, y_train, y_test = train_test_split(X, y, test_size = 0.2)"
   ]
  },
  {
   "cell_type": "code",
   "execution_count": null,
   "metadata": {
    "colab": {
     "base_uri": "https://localhost:8080/"
    },
    "id": "gIpdwSMdQE10",
    "outputId": "6c99466d-2e04-4022-9069-69e857e1be89"
   },
   "outputs": [
    {
     "name": "stdout",
     "output_type": "stream",
     "text": [
      "              precision    recall  f1-score   support\n",
      "\n",
      "          -1       0.67      0.73      0.70      5909\n",
      "           0       0.64      0.57      0.60      6026\n",
      "           1       0.79      0.80      0.79      6008\n",
      "\n",
      "    accuracy                           0.70     17943\n",
      "   macro avg       0.70      0.70      0.70     17943\n",
      "weighted avg       0.70      0.70      0.70     17943\n",
      "\n"
     ]
    }
   ],
   "source": [
    "model = MultinomialNB()\n",
    "model.fit(X_train, y_train)\n",
    "preds = model.predict(X_test)\n",
    "print(classification_report(y_test, preds))"
   ]
  },
  {
   "cell_type": "code",
   "execution_count": null,
   "metadata": {
    "id": "Ipv6x80qxxTg"
   },
   "outputs": [],
   "source": [
    "# Possible RAM issues\n",
    "# clf = MLPClassifier(solver='lbfgs', alpha=1e-5, hidden_layer_sizes=(15, 5), random_state=3)\n",
    "# clf.fit(X_train, y_train)\n",
    "# preds1 = clf.predict(X_test)\n",
    "# print(classification_report(y_test, preds1))"
   ]
  },
  {
   "cell_type": "code",
   "execution_count": null,
   "metadata": {
    "colab": {
     "base_uri": "https://localhost:8080/"
    },
    "id": "0C0xToODx0TZ",
    "outputId": "a7205294-9262-42cc-e666-96b5ce367055"
   },
   "outputs": [
    {
     "name": "stdout",
     "output_type": "stream",
     "text": [
      "              precision    recall  f1-score   support\n",
      "\n",
      "          -1       0.70      0.70      0.70      5909\n",
      "           0       0.63      0.55      0.59      6026\n",
      "           1       0.73      0.83      0.77      6008\n",
      "\n",
      "    accuracy                           0.69     17943\n",
      "   macro avg       0.69      0.69      0.69     17943\n",
      "weighted avg       0.69      0.69      0.69     17943\n",
      "\n"
     ]
    }
   ],
   "source": [
    "clf = SGDClassifier(loss=\"hinge\", penalty=\"l2\", max_iter=50)\n",
    "clf.fit(X_train, y_train)\n",
    "SGDClassifier(max_iter=50)\n",
    "clf = SGDClassifier(loss=\"log\", max_iter=50).fit(X_train, y_train)\n",
    "preds2 = clf.predict(X_test)\n",
    "print(classification_report(y_test, preds2))"
   ]
  },
  {
   "cell_type": "code",
   "execution_count": null,
   "metadata": {
    "colab": {
     "base_uri": "https://localhost:8080/",
     "height": 597
    },
    "id": "KN7YQA_7Kcsg",
    "outputId": "266e5c5b-589e-41ea-aeb2-a19650c71ab6"
   },
   "outputs": [
    {
     "data": {
      "text/html": [
       "<div>\n",
       "<style scoped>\n",
       "    .dataframe tbody tr th:only-of-type {\n",
       "        vertical-align: middle;\n",
       "    }\n",
       "\n",
       "    .dataframe tbody tr th {\n",
       "        vertical-align: top;\n",
       "    }\n",
       "\n",
       "    .dataframe thead th {\n",
       "        text-align: right;\n",
       "    }\n",
       "</style>\n",
       "<table border=\"1\" class=\"dataframe\">\n",
       "  <thead>\n",
       "    <tr style=\"text-align: right;\">\n",
       "      <th></th>\n",
       "      <th>index</th>\n",
       "      <th>reviewerID</th>\n",
       "      <th>asin</th>\n",
       "      <th>reviewerName</th>\n",
       "      <th>helpful</th>\n",
       "      <th>reviewText</th>\n",
       "      <th>overall</th>\n",
       "      <th>summary</th>\n",
       "      <th>sentiment</th>\n",
       "      <th>processed_text</th>\n",
       "      <th>lemmatized_text</th>\n",
       "    </tr>\n",
       "  </thead>\n",
       "  <tbody>\n",
       "    <tr>\n",
       "      <th>0</th>\n",
       "      <td>0</td>\n",
       "      <td>A13T2XWEGL7DU7</td>\n",
       "      <td>B00005T406</td>\n",
       "      <td>Stuart Sweetow \"sweetow\"</td>\n",
       "      <td>[1, 8]</td>\n",
       "      <td>this is a cheap trackball mouse and not as goo...</td>\n",
       "      <td>1.0</td>\n",
       "      <td>Marble Mouse Not a Man</td>\n",
       "      <td>-1</td>\n",
       "      <td>cheap trackball mouse not good microsoft trac...</td>\n",
       "      <td>cheap trackball mouse not good microsoft track...</td>\n",
       "    </tr>\n",
       "    <tr>\n",
       "      <th>1</th>\n",
       "      <td>1</td>\n",
       "      <td>A3ROMB95RLWSHV</td>\n",
       "      <td>B00007FGU7</td>\n",
       "      <td>Clutch</td>\n",
       "      <td>[0, 0]</td>\n",
       "      <td>the cable i was shipped is not the one shown. ...</td>\n",
       "      <td>2.0</td>\n",
       "      <td>Not What was Shown</td>\n",
       "      <td>-1</td>\n",
       "      <td>cable shipped not one shown. huge! instead si...</td>\n",
       "      <td>cable shipped not one shown . huge ! instead s...</td>\n",
       "    </tr>\n",
       "    <tr>\n",
       "      <th>2</th>\n",
       "      <td>2</td>\n",
       "      <td>A22WDNLXFIETW5</td>\n",
       "      <td>B00007FGU7</td>\n",
       "      <td>Clintre</td>\n",
       "      <td>[1, 1]</td>\n",
       "      <td>just has too much noise. anything i hook up ha...</td>\n",
       "      <td>1.0</td>\n",
       "      <td>Buzz</td>\n",
       "      <td>-1</td>\n",
       "      <td>much noise. anything hook buzz sound . would ...</td>\n",
       "      <td>much noise . anything hook buzz sound . would ...</td>\n",
       "    </tr>\n",
       "    <tr>\n",
       "      <th>3</th>\n",
       "      <td>3</td>\n",
       "      <td>A3RC8EMENZVZN6</td>\n",
       "      <td>B00007FGU7</td>\n",
       "      <td>Claudia R. Bautista</td>\n",
       "      <td>[0, 0]</td>\n",
       "      <td>the length is perfect for my dorm room but i t...</td>\n",
       "      <td>1.0</td>\n",
       "      <td>No good</td>\n",
       "      <td>-1</td>\n",
       "      <td>length perfect dorm room tried 3 different he...</td>\n",
       "      <td>length perfect dorm room tried 3 different hea...</td>\n",
       "    </tr>\n",
       "    <tr>\n",
       "      <th>4</th>\n",
       "      <td>4</td>\n",
       "      <td>AFT8YMKCMJ3GC</td>\n",
       "      <td>B00007FGU7</td>\n",
       "      <td>Chris R</td>\n",
       "      <td>[0, 0]</td>\n",
       "      <td>this cable does not connect properly and sound...</td>\n",
       "      <td>1.0</td>\n",
       "      <td>Bad Connection doesn't work</td>\n",
       "      <td>-1</td>\n",
       "      <td>cable not connect properly sound distorted. u...</td>\n",
       "      <td>cable not connect properly sound distorted . u...</td>\n",
       "    </tr>\n",
       "    <tr>\n",
       "      <th>...</th>\n",
       "      <td>...</td>\n",
       "      <td>...</td>\n",
       "      <td>...</td>\n",
       "      <td>...</td>\n",
       "      <td>...</td>\n",
       "      <td>...</td>\n",
       "      <td>...</td>\n",
       "      <td>...</td>\n",
       "      <td>...</td>\n",
       "      <td>...</td>\n",
       "      <td>...</td>\n",
       "    </tr>\n",
       "    <tr>\n",
       "      <th>89710</th>\n",
       "      <td>109995</td>\n",
       "      <td>ADW4R2F0W1MNE</td>\n",
       "      <td>B000023VUL</td>\n",
       "      <td>James McNeal</td>\n",
       "      <td>[7, 7]</td>\n",
       "      <td>i purchased this hub to increase the number of...</td>\n",
       "      <td>5.0</td>\n",
       "      <td>Great device at a great price</td>\n",
       "      <td>1</td>\n",
       "      <td>purchased hub increase number usb ports machi...</td>\n",
       "      <td>purchased hub increase number usb port machine...</td>\n",
       "    </tr>\n",
       "    <tr>\n",
       "      <th>89711</th>\n",
       "      <td>109996</td>\n",
       "      <td>A1ORUSHRRG0VWN</td>\n",
       "      <td>B000023VUL</td>\n",
       "      <td>F. A. Soares</td>\n",
       "      <td>[4, 4]</td>\n",
       "      <td>i bought this hub several months ago and i am ...</td>\n",
       "      <td>5.0</td>\n",
       "      <td>An awesome product</td>\n",
       "      <td>1</td>\n",
       "      <td>bought hub several months ago extremely pleas...</td>\n",
       "      <td>bought hub several month ago extremely pleased...</td>\n",
       "    </tr>\n",
       "    <tr>\n",
       "      <th>89712</th>\n",
       "      <td>109997</td>\n",
       "      <td>A7IKOAH6M8WAC</td>\n",
       "      <td>B000023VUL</td>\n",
       "      <td>Eric</td>\n",
       "      <td>[2, 3]</td>\n",
       "      <td>i have had this for awhile and have not had an...</td>\n",
       "      <td>5.0</td>\n",
       "      <td>Works great!</td>\n",
       "      <td>1</td>\n",
       "      <td>awhile not problems. camera things plugged . ...</td>\n",
       "      <td>awhile not problem . camera thing plugged . ni...</td>\n",
       "    </tr>\n",
       "    <tr>\n",
       "      <th>89713</th>\n",
       "      <td>109998</td>\n",
       "      <td>A1PIHNRD8UIWEX</td>\n",
       "      <td>B000023VUL</td>\n",
       "      <td>D. Berglind</td>\n",
       "      <td>[7, 7]</td>\n",
       "      <td>this hub is very small, easy to install, and i...</td>\n",
       "      <td>5.0</td>\n",
       "      <td>Simple to use/Easy on the wallet</td>\n",
       "      <td>1</td>\n",
       "      <td>hub small, easy install, inexpensive. worth 5...</td>\n",
       "      <td>hub small , easy install , inexpensive . worth...</td>\n",
       "    </tr>\n",
       "    <tr>\n",
       "      <th>89714</th>\n",
       "      <td>109999</td>\n",
       "      <td>A33DOEB5Q8U8GH</td>\n",
       "      <td>B000023VUL</td>\n",
       "      <td>Daniel P Hernandez \"mallclerk\"</td>\n",
       "      <td>[1, 2]</td>\n",
       "      <td>being an illustrator who works on a imac i onl...</td>\n",
       "      <td>5.0</td>\n",
       "      <td>Too much stuff not enough holes</td>\n",
       "      <td>1</td>\n",
       "      <td>illustrator works imac two usb ports. ( illus...</td>\n",
       "      <td>illustrator work imac two usb port . ( illustr...</td>\n",
       "    </tr>\n",
       "  </tbody>\n",
       "</table>\n",
       "<p>89715 rows × 11 columns</p>\n",
       "</div>"
      ],
      "text/plain": [
       "        index  ...                                    lemmatized_text\n",
       "0           0  ...  cheap trackball mouse not good microsoft track...\n",
       "1           1  ...  cable shipped not one shown . huge ! instead s...\n",
       "2           2  ...  much noise . anything hook buzz sound . would ...\n",
       "3           3  ...  length perfect dorm room tried 3 different hea...\n",
       "4           4  ...  cable not connect properly sound distorted . u...\n",
       "...       ...  ...                                                ...\n",
       "89710  109995  ...  purchased hub increase number usb port machine...\n",
       "89711  109996  ...  bought hub several month ago extremely pleased...\n",
       "89712  109997  ...  awhile not problem . camera thing plugged . ni...\n",
       "89713  109998  ...  hub small , easy install , inexpensive . worth...\n",
       "89714  109999  ...  illustrator work imac two usb port . ( illustr...\n",
       "\n",
       "[89715 rows x 11 columns]"
      ]
     },
     "execution_count": 48,
     "metadata": {},
     "output_type": "execute_result"
    }
   ],
   "source": [
    "new_df"
   ]
  },
  {
   "cell_type": "code",
   "execution_count": null,
   "metadata": {
    "id": "oZhYeVWVKgQs"
   },
   "outputs": [],
   "source": [
    "new_df.to_csv(\"/content/drive/MyDrive/Professional/Break Through AI/BTAI Verizon Project/processed_data.csv\")"
   ]
  },
  {
   "cell_type": "markdown",
   "metadata": {
    "id": "Gtn6kiTRPwzp"
   },
   "source": [
    "# Deep Learning\n"
   ]
  },
  {
   "cell_type": "code",
   "execution_count": null,
   "metadata": {
    "id": "q-aqZoqGtKlm"
   },
   "outputs": [],
   "source": [
    "# Changing the format of the data so we can try an LSTM-based model"
   ]
  },
  {
   "cell_type": "code",
   "execution_count": null,
   "metadata": {
    "id": "hdBAy5yFuPVS"
   },
   "outputs": [],
   "source": [
    "deep_learning_df = new_df[['sentiment','lemmatized_text']]"
   ]
  },
  {
   "cell_type": "code",
   "execution_count": null,
   "metadata": {
    "colab": {
     "base_uri": "https://localhost:8080/",
     "height": 423
    },
    "id": "f-7TiCkluwTV",
    "outputId": "9e9957fa-8d65-4fec-d8cc-b2b91d4002ad"
   },
   "outputs": [
    {
     "data": {
      "text/html": [
       "<div>\n",
       "<style scoped>\n",
       "    .dataframe tbody tr th:only-of-type {\n",
       "        vertical-align: middle;\n",
       "    }\n",
       "\n",
       "    .dataframe tbody tr th {\n",
       "        vertical-align: top;\n",
       "    }\n",
       "\n",
       "    .dataframe thead th {\n",
       "        text-align: right;\n",
       "    }\n",
       "</style>\n",
       "<table border=\"1\" class=\"dataframe\">\n",
       "  <thead>\n",
       "    <tr style=\"text-align: right;\">\n",
       "      <th></th>\n",
       "      <th>sentiment</th>\n",
       "      <th>lemmatized_text</th>\n",
       "    </tr>\n",
       "  </thead>\n",
       "  <tbody>\n",
       "    <tr>\n",
       "      <th>0</th>\n",
       "      <td>-1</td>\n",
       "      <td>cheap trackball mouse not good microsoft track...</td>\n",
       "    </tr>\n",
       "    <tr>\n",
       "      <th>1</th>\n",
       "      <td>-1</td>\n",
       "      <td>cable shipped not one shown . huge ! instead s...</td>\n",
       "    </tr>\n",
       "    <tr>\n",
       "      <th>2</th>\n",
       "      <td>-1</td>\n",
       "      <td>much noise . anything hook buzz sound . would ...</td>\n",
       "    </tr>\n",
       "    <tr>\n",
       "      <th>3</th>\n",
       "      <td>-1</td>\n",
       "      <td>length perfect dorm room tried 3 different hea...</td>\n",
       "    </tr>\n",
       "    <tr>\n",
       "      <th>4</th>\n",
       "      <td>-1</td>\n",
       "      <td>cable not connect properly sound distorted . u...</td>\n",
       "    </tr>\n",
       "    <tr>\n",
       "      <th>...</th>\n",
       "      <td>...</td>\n",
       "      <td>...</td>\n",
       "    </tr>\n",
       "    <tr>\n",
       "      <th>89710</th>\n",
       "      <td>1</td>\n",
       "      <td>purchased hub increase number usb port machine...</td>\n",
       "    </tr>\n",
       "    <tr>\n",
       "      <th>89711</th>\n",
       "      <td>1</td>\n",
       "      <td>bought hub several month ago extremely pleased...</td>\n",
       "    </tr>\n",
       "    <tr>\n",
       "      <th>89712</th>\n",
       "      <td>1</td>\n",
       "      <td>awhile not problem . camera thing plugged . ni...</td>\n",
       "    </tr>\n",
       "    <tr>\n",
       "      <th>89713</th>\n",
       "      <td>1</td>\n",
       "      <td>hub small , easy install , inexpensive . worth...</td>\n",
       "    </tr>\n",
       "    <tr>\n",
       "      <th>89714</th>\n",
       "      <td>1</td>\n",
       "      <td>illustrator work imac two usb port . ( illustr...</td>\n",
       "    </tr>\n",
       "  </tbody>\n",
       "</table>\n",
       "<p>89715 rows × 2 columns</p>\n",
       "</div>"
      ],
      "text/plain": [
       "       sentiment                                    lemmatized_text\n",
       "0             -1  cheap trackball mouse not good microsoft track...\n",
       "1             -1  cable shipped not one shown . huge ! instead s...\n",
       "2             -1  much noise . anything hook buzz sound . would ...\n",
       "3             -1  length perfect dorm room tried 3 different hea...\n",
       "4             -1  cable not connect properly sound distorted . u...\n",
       "...          ...                                                ...\n",
       "89710          1  purchased hub increase number usb port machine...\n",
       "89711          1  bought hub several month ago extremely pleased...\n",
       "89712          1  awhile not problem . camera thing plugged . ni...\n",
       "89713          1  hub small , easy install , inexpensive . worth...\n",
       "89714          1  illustrator work imac two usb port . ( illustr...\n",
       "\n",
       "[89715 rows x 2 columns]"
      ]
     },
     "execution_count": 54,
     "metadata": {},
     "output_type": "execute_result"
    }
   ],
   "source": [
    "deep_learning_df"
   ]
  },
  {
   "cell_type": "code",
   "execution_count": null,
   "metadata": {
    "id": "qZgYU3_Zwppg"
   },
   "outputs": [],
   "source": [
    "all_tokens = []\n",
    "for row in deep_learning_df['lemmatized_text']:\n",
    "  tokens = word_tokenize(row)\n",
    "  all_tokens.append(tokens)"
   ]
  },
  {
   "cell_type": "code",
   "execution_count": null,
   "metadata": {
    "id": "BE11O12e0N-y"
   },
   "outputs": [],
   "source": [
    "max_len = 1501"
   ]
  },
  {
   "cell_type": "code",
   "execution_count": null,
   "metadata": {
    "id": "wLFWhnSW1zfm"
   },
   "outputs": [],
   "source": [
    "tokens_padded = []\n",
    "for review in all_tokens:\n",
    "  num_padding = max_len - len(review)\n",
    "  if num_padding > 0:\n",
    "    review += ['PAD'] * num_padding\n",
    "  else:\n",
    "    review = review[:max_len]\n",
    "  tokens_padded.append(review)"
   ]
  },
  {
   "cell_type": "code",
   "execution_count": null,
   "metadata": {
    "id": "MP7f-wM32Qb0"
   },
   "outputs": [],
   "source": [
    "tokens_padded_array = np.array(tokens_padded, dtype=object)"
   ]
  },
  {
   "cell_type": "code",
   "execution_count": null,
   "metadata": {
    "colab": {
     "base_uri": "https://localhost:8080/"
    },
    "id": "yMRCFxf22TjA",
    "outputId": "ec34d3f2-48a0-4a3a-bb89-15b8bf256c1d"
   },
   "outputs": [
    {
     "data": {
      "text/plain": [
       "(89715, 1501)"
      ]
     },
     "execution_count": 61,
     "metadata": {},
     "output_type": "execute_result"
    }
   ],
   "source": [
    "tokens_padded_array.shape"
   ]
  },
  {
   "cell_type": "code",
   "execution_count": null,
   "metadata": {
    "id": "wPhPM_LM2vMw"
   },
   "outputs": [],
   "source": [
    "tokens_df = pd.DataFrame(tokens_padded_array)"
   ]
  },
  {
   "cell_type": "code",
   "execution_count": null,
   "metadata": {
    "id": "jHuWqWKq3LOX"
   },
   "outputs": [],
   "source": [
    "deep_learning_df = pd.concat([deep_learning_df, tokens_df], axis=1)"
   ]
  },
  {
   "cell_type": "code",
   "execution_count": null,
   "metadata": {
    "id": "oTv8aR8RTkDI"
   },
   "outputs": [],
   "source": [
    "deep_learning_df = deep_learning_df[deep_learning_df[1500] == 'PAD']"
   ]
  },
  {
   "cell_type": "code",
   "execution_count": null,
   "metadata": {
    "id": "3fcMfiW3-C-6"
   },
   "outputs": [],
   "source": [
    "deep_learning_df.drop(['lemmatized_text'], axis=1, inplace=True)"
   ]
  },
  {
   "cell_type": "code",
   "execution_count": null,
   "metadata": {
    "colab": {
     "base_uri": "https://localhost:8080/",
     "height": 255
    },
    "id": "M7U-JggC-F3q",
    "outputId": "e7b9e3ed-42e9-485e-f63b-059118db2416"
   },
   "outputs": [
    {
     "data": {
      "text/html": [
       "<div>\n",
       "<style scoped>\n",
       "    .dataframe tbody tr th:only-of-type {\n",
       "        vertical-align: middle;\n",
       "    }\n",
       "\n",
       "    .dataframe tbody tr th {\n",
       "        vertical-align: top;\n",
       "    }\n",
       "\n",
       "    .dataframe thead th {\n",
       "        text-align: right;\n",
       "    }\n",
       "</style>\n",
       "<table border=\"1\" class=\"dataframe\">\n",
       "  <thead>\n",
       "    <tr style=\"text-align: right;\">\n",
       "      <th></th>\n",
       "      <th>sentiment</th>\n",
       "      <th>0</th>\n",
       "      <th>1</th>\n",
       "      <th>2</th>\n",
       "      <th>3</th>\n",
       "      <th>4</th>\n",
       "      <th>5</th>\n",
       "      <th>6</th>\n",
       "      <th>7</th>\n",
       "      <th>8</th>\n",
       "      <th>9</th>\n",
       "      <th>10</th>\n",
       "      <th>11</th>\n",
       "      <th>12</th>\n",
       "      <th>13</th>\n",
       "      <th>14</th>\n",
       "      <th>15</th>\n",
       "      <th>16</th>\n",
       "      <th>17</th>\n",
       "      <th>18</th>\n",
       "      <th>19</th>\n",
       "      <th>20</th>\n",
       "      <th>21</th>\n",
       "      <th>22</th>\n",
       "      <th>23</th>\n",
       "      <th>24</th>\n",
       "      <th>25</th>\n",
       "      <th>26</th>\n",
       "      <th>27</th>\n",
       "      <th>28</th>\n",
       "      <th>29</th>\n",
       "      <th>30</th>\n",
       "      <th>31</th>\n",
       "      <th>32</th>\n",
       "      <th>33</th>\n",
       "      <th>34</th>\n",
       "      <th>35</th>\n",
       "      <th>36</th>\n",
       "      <th>37</th>\n",
       "      <th>38</th>\n",
       "      <th>...</th>\n",
       "      <th>1461</th>\n",
       "      <th>1462</th>\n",
       "      <th>1463</th>\n",
       "      <th>1464</th>\n",
       "      <th>1465</th>\n",
       "      <th>1466</th>\n",
       "      <th>1467</th>\n",
       "      <th>1468</th>\n",
       "      <th>1469</th>\n",
       "      <th>1470</th>\n",
       "      <th>1471</th>\n",
       "      <th>1472</th>\n",
       "      <th>1473</th>\n",
       "      <th>1474</th>\n",
       "      <th>1475</th>\n",
       "      <th>1476</th>\n",
       "      <th>1477</th>\n",
       "      <th>1478</th>\n",
       "      <th>1479</th>\n",
       "      <th>1480</th>\n",
       "      <th>1481</th>\n",
       "      <th>1482</th>\n",
       "      <th>1483</th>\n",
       "      <th>1484</th>\n",
       "      <th>1485</th>\n",
       "      <th>1486</th>\n",
       "      <th>1487</th>\n",
       "      <th>1488</th>\n",
       "      <th>1489</th>\n",
       "      <th>1490</th>\n",
       "      <th>1491</th>\n",
       "      <th>1492</th>\n",
       "      <th>1493</th>\n",
       "      <th>1494</th>\n",
       "      <th>1495</th>\n",
       "      <th>1496</th>\n",
       "      <th>1497</th>\n",
       "      <th>1498</th>\n",
       "      <th>1499</th>\n",
       "      <th>1500</th>\n",
       "    </tr>\n",
       "  </thead>\n",
       "  <tbody>\n",
       "    <tr>\n",
       "      <th>0</th>\n",
       "      <td>-1</td>\n",
       "      <td>cheap</td>\n",
       "      <td>trackball</td>\n",
       "      <td>mouse</td>\n",
       "      <td>not</td>\n",
       "      <td>good</td>\n",
       "      <td>microsoft</td>\n",
       "      <td>trackball</td>\n",
       "      <td>mouse</td>\n",
       "      <td>cost</td>\n",
       "      <td>much</td>\n",
       "      <td>.</td>\n",
       "      <td>small</td>\n",
       "      <td>ball</td>\n",
       "      <td>move</td>\n",
       "      <td>easily</td>\n",
       "      <td>,</td>\n",
       "      <td>hard</td>\n",
       "      <td>accurate</td>\n",
       "      <td>.</td>\n",
       "      <td>since</td>\n",
       "      <td>cheap</td>\n",
       "      <td>,</td>\n",
       "      <td>didn</td>\n",
       "      <td>'</td>\n",
       "      <td>bother</td>\n",
       "      <td>returning</td>\n",
       "      <td>.</td>\n",
       "      <td>expected</td>\n",
       "      <td>logitech</td>\n",
       "      <td>.</td>\n",
       "      <td>PAD</td>\n",
       "      <td>PAD</td>\n",
       "      <td>PAD</td>\n",
       "      <td>PAD</td>\n",
       "      <td>PAD</td>\n",
       "      <td>PAD</td>\n",
       "      <td>PAD</td>\n",
       "      <td>PAD</td>\n",
       "      <td>PAD</td>\n",
       "      <td>...</td>\n",
       "      <td>PAD</td>\n",
       "      <td>PAD</td>\n",
       "      <td>PAD</td>\n",
       "      <td>PAD</td>\n",
       "      <td>PAD</td>\n",
       "      <td>PAD</td>\n",
       "      <td>PAD</td>\n",
       "      <td>PAD</td>\n",
       "      <td>PAD</td>\n",
       "      <td>PAD</td>\n",
       "      <td>PAD</td>\n",
       "      <td>PAD</td>\n",
       "      <td>PAD</td>\n",
       "      <td>PAD</td>\n",
       "      <td>PAD</td>\n",
       "      <td>PAD</td>\n",
       "      <td>PAD</td>\n",
       "      <td>PAD</td>\n",
       "      <td>PAD</td>\n",
       "      <td>PAD</td>\n",
       "      <td>PAD</td>\n",
       "      <td>PAD</td>\n",
       "      <td>PAD</td>\n",
       "      <td>PAD</td>\n",
       "      <td>PAD</td>\n",
       "      <td>PAD</td>\n",
       "      <td>PAD</td>\n",
       "      <td>PAD</td>\n",
       "      <td>PAD</td>\n",
       "      <td>PAD</td>\n",
       "      <td>PAD</td>\n",
       "      <td>PAD</td>\n",
       "      <td>PAD</td>\n",
       "      <td>PAD</td>\n",
       "      <td>PAD</td>\n",
       "      <td>PAD</td>\n",
       "      <td>PAD</td>\n",
       "      <td>PAD</td>\n",
       "      <td>PAD</td>\n",
       "      <td>PAD</td>\n",
       "    </tr>\n",
       "    <tr>\n",
       "      <th>1</th>\n",
       "      <td>-1</td>\n",
       "      <td>cable</td>\n",
       "      <td>shipped</td>\n",
       "      <td>not</td>\n",
       "      <td>one</td>\n",
       "      <td>shown</td>\n",
       "      <td>.</td>\n",
       "      <td>huge</td>\n",
       "      <td>!</td>\n",
       "      <td>instead</td>\n",
       "      <td>single</td>\n",
       "      <td>small</td>\n",
       "      <td>cable</td>\n",
       "      <td>end</td>\n",
       "      <td>end</td>\n",
       "      <td>,</td>\n",
       "      <td>two</td>\n",
       "      <td>fat</td>\n",
       "      <td>cable</td>\n",
       "      <td>one</td>\n",
       "      <td>jack</td>\n",
       "      <td>.</td>\n",
       "      <td>fat</td>\n",
       "      <td>bulky</td>\n",
       "      <td>.</td>\n",
       "      <td>way</td>\n",
       "      <td>bigger</td>\n",
       "      <td>cable</td>\n",
       "      <td>would</td>\n",
       "      <td>necessary</td>\n",
       "      <td>.</td>\n",
       "      <td>should</td>\n",
       "      <td>sent</td>\n",
       "      <td>back</td>\n",
       "      <td>,</td>\n",
       "      <td>didn</td>\n",
       "      <td>'</td>\n",
       "      <td>want</td>\n",
       "      <td>go</td>\n",
       "      <td>thru</td>\n",
       "      <td>...</td>\n",
       "      <td>PAD</td>\n",
       "      <td>PAD</td>\n",
       "      <td>PAD</td>\n",
       "      <td>PAD</td>\n",
       "      <td>PAD</td>\n",
       "      <td>PAD</td>\n",
       "      <td>PAD</td>\n",
       "      <td>PAD</td>\n",
       "      <td>PAD</td>\n",
       "      <td>PAD</td>\n",
       "      <td>PAD</td>\n",
       "      <td>PAD</td>\n",
       "      <td>PAD</td>\n",
       "      <td>PAD</td>\n",
       "      <td>PAD</td>\n",
       "      <td>PAD</td>\n",
       "      <td>PAD</td>\n",
       "      <td>PAD</td>\n",
       "      <td>PAD</td>\n",
       "      <td>PAD</td>\n",
       "      <td>PAD</td>\n",
       "      <td>PAD</td>\n",
       "      <td>PAD</td>\n",
       "      <td>PAD</td>\n",
       "      <td>PAD</td>\n",
       "      <td>PAD</td>\n",
       "      <td>PAD</td>\n",
       "      <td>PAD</td>\n",
       "      <td>PAD</td>\n",
       "      <td>PAD</td>\n",
       "      <td>PAD</td>\n",
       "      <td>PAD</td>\n",
       "      <td>PAD</td>\n",
       "      <td>PAD</td>\n",
       "      <td>PAD</td>\n",
       "      <td>PAD</td>\n",
       "      <td>PAD</td>\n",
       "      <td>PAD</td>\n",
       "      <td>PAD</td>\n",
       "      <td>PAD</td>\n",
       "    </tr>\n",
       "    <tr>\n",
       "      <th>2</th>\n",
       "      <td>-1</td>\n",
       "      <td>much</td>\n",
       "      <td>noise</td>\n",
       "      <td>.</td>\n",
       "      <td>anything</td>\n",
       "      <td>hook</td>\n",
       "      <td>buzz</td>\n",
       "      <td>sound</td>\n",
       "      <td>.</td>\n",
       "      <td>would</td>\n",
       "      <td>send</td>\n",
       "      <td>back</td>\n",
       "      <td>,</td>\n",
       "      <td>not</td>\n",
       "      <td>worth</td>\n",
       "      <td>hassle</td>\n",
       "      <td>.</td>\n",
       "      <td>PAD</td>\n",
       "      <td>PAD</td>\n",
       "      <td>PAD</td>\n",
       "      <td>PAD</td>\n",
       "      <td>PAD</td>\n",
       "      <td>PAD</td>\n",
       "      <td>PAD</td>\n",
       "      <td>PAD</td>\n",
       "      <td>PAD</td>\n",
       "      <td>PAD</td>\n",
       "      <td>PAD</td>\n",
       "      <td>PAD</td>\n",
       "      <td>PAD</td>\n",
       "      <td>PAD</td>\n",
       "      <td>PAD</td>\n",
       "      <td>PAD</td>\n",
       "      <td>PAD</td>\n",
       "      <td>PAD</td>\n",
       "      <td>PAD</td>\n",
       "      <td>PAD</td>\n",
       "      <td>PAD</td>\n",
       "      <td>PAD</td>\n",
       "      <td>PAD</td>\n",
       "      <td>...</td>\n",
       "      <td>PAD</td>\n",
       "      <td>PAD</td>\n",
       "      <td>PAD</td>\n",
       "      <td>PAD</td>\n",
       "      <td>PAD</td>\n",
       "      <td>PAD</td>\n",
       "      <td>PAD</td>\n",
       "      <td>PAD</td>\n",
       "      <td>PAD</td>\n",
       "      <td>PAD</td>\n",
       "      <td>PAD</td>\n",
       "      <td>PAD</td>\n",
       "      <td>PAD</td>\n",
       "      <td>PAD</td>\n",
       "      <td>PAD</td>\n",
       "      <td>PAD</td>\n",
       "      <td>PAD</td>\n",
       "      <td>PAD</td>\n",
       "      <td>PAD</td>\n",
       "      <td>PAD</td>\n",
       "      <td>PAD</td>\n",
       "      <td>PAD</td>\n",
       "      <td>PAD</td>\n",
       "      <td>PAD</td>\n",
       "      <td>PAD</td>\n",
       "      <td>PAD</td>\n",
       "      <td>PAD</td>\n",
       "      <td>PAD</td>\n",
       "      <td>PAD</td>\n",
       "      <td>PAD</td>\n",
       "      <td>PAD</td>\n",
       "      <td>PAD</td>\n",
       "      <td>PAD</td>\n",
       "      <td>PAD</td>\n",
       "      <td>PAD</td>\n",
       "      <td>PAD</td>\n",
       "      <td>PAD</td>\n",
       "      <td>PAD</td>\n",
       "      <td>PAD</td>\n",
       "      <td>PAD</td>\n",
       "    </tr>\n",
       "    <tr>\n",
       "      <th>3</th>\n",
       "      <td>-1</td>\n",
       "      <td>length</td>\n",
       "      <td>perfect</td>\n",
       "      <td>dorm</td>\n",
       "      <td>room</td>\n",
       "      <td>tried</td>\n",
       "      <td>3</td>\n",
       "      <td>different</td>\n",
       "      <td>headphone</td>\n",
       "      <td>connection</td>\n",
       "      <td>still</td>\n",
       "      <td>not</td>\n",
       "      <td>best</td>\n",
       "      <td>tv</td>\n",
       "      <td>viewing</td>\n",
       "      <td>,</td>\n",
       "      <td>lose</td>\n",
       "      <td>sound</td>\n",
       "      <td>movement</td>\n",
       "      <td>doesn</td>\n",
       "      <td>'</td>\n",
       "      <td>seem</td>\n",
       "      <td>catch</td>\n",
       "      <td>stereo</td>\n",
       "      <td>feed</td>\n",
       "      <td>time</td>\n",
       "      <td>.</td>\n",
       "      <td>not</td>\n",
       "      <td>happy</td>\n",
       "      <td>PAD</td>\n",
       "      <td>PAD</td>\n",
       "      <td>PAD</td>\n",
       "      <td>PAD</td>\n",
       "      <td>PAD</td>\n",
       "      <td>PAD</td>\n",
       "      <td>PAD</td>\n",
       "      <td>PAD</td>\n",
       "      <td>PAD</td>\n",
       "      <td>PAD</td>\n",
       "      <td>PAD</td>\n",
       "      <td>...</td>\n",
       "      <td>PAD</td>\n",
       "      <td>PAD</td>\n",
       "      <td>PAD</td>\n",
       "      <td>PAD</td>\n",
       "      <td>PAD</td>\n",
       "      <td>PAD</td>\n",
       "      <td>PAD</td>\n",
       "      <td>PAD</td>\n",
       "      <td>PAD</td>\n",
       "      <td>PAD</td>\n",
       "      <td>PAD</td>\n",
       "      <td>PAD</td>\n",
       "      <td>PAD</td>\n",
       "      <td>PAD</td>\n",
       "      <td>PAD</td>\n",
       "      <td>PAD</td>\n",
       "      <td>PAD</td>\n",
       "      <td>PAD</td>\n",
       "      <td>PAD</td>\n",
       "      <td>PAD</td>\n",
       "      <td>PAD</td>\n",
       "      <td>PAD</td>\n",
       "      <td>PAD</td>\n",
       "      <td>PAD</td>\n",
       "      <td>PAD</td>\n",
       "      <td>PAD</td>\n",
       "      <td>PAD</td>\n",
       "      <td>PAD</td>\n",
       "      <td>PAD</td>\n",
       "      <td>PAD</td>\n",
       "      <td>PAD</td>\n",
       "      <td>PAD</td>\n",
       "      <td>PAD</td>\n",
       "      <td>PAD</td>\n",
       "      <td>PAD</td>\n",
       "      <td>PAD</td>\n",
       "      <td>PAD</td>\n",
       "      <td>PAD</td>\n",
       "      <td>PAD</td>\n",
       "      <td>PAD</td>\n",
       "    </tr>\n",
       "    <tr>\n",
       "      <th>4</th>\n",
       "      <td>-1</td>\n",
       "      <td>cable</td>\n",
       "      <td>not</td>\n",
       "      <td>connect</td>\n",
       "      <td>properly</td>\n",
       "      <td>sound</td>\n",
       "      <td>distorted</td>\n",
       "      <td>.</td>\n",
       "      <td>unusable</td>\n",
       "      <td>waist</td>\n",
       "      <td>money</td>\n",
       "      <td>.</td>\n",
       "      <td>buyer</td>\n",
       "      <td>beware</td>\n",
       "      <td>!</td>\n",
       "      <td>!</td>\n",
       "      <td>!</td>\n",
       "      <td>PAD</td>\n",
       "      <td>PAD</td>\n",
       "      <td>PAD</td>\n",
       "      <td>PAD</td>\n",
       "      <td>PAD</td>\n",
       "      <td>PAD</td>\n",
       "      <td>PAD</td>\n",
       "      <td>PAD</td>\n",
       "      <td>PAD</td>\n",
       "      <td>PAD</td>\n",
       "      <td>PAD</td>\n",
       "      <td>PAD</td>\n",
       "      <td>PAD</td>\n",
       "      <td>PAD</td>\n",
       "      <td>PAD</td>\n",
       "      <td>PAD</td>\n",
       "      <td>PAD</td>\n",
       "      <td>PAD</td>\n",
       "      <td>PAD</td>\n",
       "      <td>PAD</td>\n",
       "      <td>PAD</td>\n",
       "      <td>PAD</td>\n",
       "      <td>PAD</td>\n",
       "      <td>...</td>\n",
       "      <td>PAD</td>\n",
       "      <td>PAD</td>\n",
       "      <td>PAD</td>\n",
       "      <td>PAD</td>\n",
       "      <td>PAD</td>\n",
       "      <td>PAD</td>\n",
       "      <td>PAD</td>\n",
       "      <td>PAD</td>\n",
       "      <td>PAD</td>\n",
       "      <td>PAD</td>\n",
       "      <td>PAD</td>\n",
       "      <td>PAD</td>\n",
       "      <td>PAD</td>\n",
       "      <td>PAD</td>\n",
       "      <td>PAD</td>\n",
       "      <td>PAD</td>\n",
       "      <td>PAD</td>\n",
       "      <td>PAD</td>\n",
       "      <td>PAD</td>\n",
       "      <td>PAD</td>\n",
       "      <td>PAD</td>\n",
       "      <td>PAD</td>\n",
       "      <td>PAD</td>\n",
       "      <td>PAD</td>\n",
       "      <td>PAD</td>\n",
       "      <td>PAD</td>\n",
       "      <td>PAD</td>\n",
       "      <td>PAD</td>\n",
       "      <td>PAD</td>\n",
       "      <td>PAD</td>\n",
       "      <td>PAD</td>\n",
       "      <td>PAD</td>\n",
       "      <td>PAD</td>\n",
       "      <td>PAD</td>\n",
       "      <td>PAD</td>\n",
       "      <td>PAD</td>\n",
       "      <td>PAD</td>\n",
       "      <td>PAD</td>\n",
       "      <td>PAD</td>\n",
       "      <td>PAD</td>\n",
       "    </tr>\n",
       "  </tbody>\n",
       "</table>\n",
       "<p>5 rows × 1502 columns</p>\n",
       "</div>"
      ],
      "text/plain": [
       "   sentiment       0          1        2         3  ... 1496 1497 1498 1499 1500\n",
       "0         -1   cheap  trackball    mouse       not  ...  PAD  PAD  PAD  PAD  PAD\n",
       "1         -1   cable    shipped      not       one  ...  PAD  PAD  PAD  PAD  PAD\n",
       "2         -1    much      noise        .  anything  ...  PAD  PAD  PAD  PAD  PAD\n",
       "3         -1  length    perfect     dorm      room  ...  PAD  PAD  PAD  PAD  PAD\n",
       "4         -1   cable        not  connect  properly  ...  PAD  PAD  PAD  PAD  PAD\n",
       "\n",
       "[5 rows x 1502 columns]"
      ]
     },
     "execution_count": 66,
     "metadata": {},
     "output_type": "execute_result"
    }
   ],
   "source": [
    "deep_learning_df.head()"
   ]
  },
  {
   "cell_type": "code",
   "execution_count": null,
   "metadata": {
    "id": "MBw97AkpWdeT"
   },
   "outputs": [],
   "source": [
    "input_length = 1501\n",
    "features = []\n",
    "for i in range(input_length):\n",
    "    features.append(i)"
   ]
  },
  {
   "cell_type": "code",
   "execution_count": null,
   "metadata": {
    "id": "Q5rcpcUUX8tI"
   },
   "outputs": [],
   "source": [
    "data = deep_learning_df[features].values\n",
    "labels = deep_learning_df['sentiment'].values"
   ]
  },
  {
   "cell_type": "code",
   "execution_count": null,
   "metadata": {
    "colab": {
     "base_uri": "https://localhost:8080/"
    },
    "id": "wu24MoHDYCum",
    "outputId": "a21d1e17-eab3-4132-8675-3e01d6ba94f7"
   },
   "outputs": [
    {
     "name": "stdout",
     "output_type": "stream",
     "text": [
      "Vocab size:  132227\n"
     ]
    }
   ],
   "source": [
    "word2id = {}\n",
    "id2word = {}\n",
    "unassigned_id = 0\n",
    "for review in data:\n",
    "    for token in review:\n",
    "        if token not in word2id:\n",
    "            word2id[token] = unassigned_id\n",
    "            id2word[unassigned_id] = token\n",
    "            unassigned_id += 1\n",
    "vocab_size = len(word2id)\n",
    "print ('Vocab size: ', vocab_size)"
   ]
  },
  {
   "cell_type": "code",
   "execution_count": null,
   "metadata": {
    "id": "mpXYMbL9YLNx"
   },
   "outputs": [],
   "source": [
    "deep_learning_df[features].replace(to_replace=word2id)"
   ]
  },
  {
   "cell_type": "code",
   "execution_count": null,
   "metadata": {
    "id": "Y4igBs2TYXlh"
   },
   "outputs": [],
   "source": [
    "from keras.wrappers.scikit_learn import KerasClassifier\n",
    "# For Neural Networks\n",
    "import tensorflow as tf\n",
    "import keras\n",
    "from keras.models import Sequential\n",
    "from keras.layers import Dense, Conv2D, MaxPool2D, Flatten, Reshape\n",
    "from keras.layers import Embedding\n",
    "from keras.layers import LSTM"
   ]
  },
  {
   "cell_type": "code",
   "execution_count": null,
   "metadata": {
    "id": "aTKDonw3MMck"
   },
   "outputs": [],
   "source": [
    "device_name = tf.test.gpu_device_name()\n",
    "if device_name != '/device:GPU:0':\n",
    "  print(\n",
    "      '\\n\\nThis error most likely means that this notebook is not '\n",
    "      'configured to use a GPU.  Change this in Notebook Settings via the '\n",
    "      'command palette (cmd/ctrl-shift-P) or the Edit menu.\\n\\n')\n",
    "  raise SystemError('GPU device not found')"
   ]
  },
  {
   "cell_type": "code",
   "execution_count": null,
   "metadata": {
    "id": "h7Bajm1-cH-c"
   },
   "outputs": [],
   "source": [
    "def create_rnn_model():\n",
    "    tf.random.set_seed(1234)\n",
    "    # create model\n",
    "    model = Sequential()\n",
    "    model.add(Embedding(vocab_size, 32))\n",
    "    pass\n",
    "    model.add(LSTM(32))\n",
    "    pass\n",
    "    model.add(Dense(2, activation='softmax')) \n",
    "    # Compile model\n",
    "    model.compile(loss=\"sparse_categorical_crossentropy\",\n",
    "                  optimizer=\"adam\",\n",
    "                  metrics=[\"accuracy\"])\n",
    "    return model"
   ]
  },
  {
   "cell_type": "code",
   "execution_count": null,
   "metadata": {
    "id": "tAcqfZ5zcPwF"
   },
   "outputs": [],
   "source": [
    "model = KerasClassifier(build_fn=create_rnn_model,\n",
    "                        epochs=6,\n",
    "                        batch_size=150,\n",
    "                        verbose=1)"
   ]
  },
  {
   "cell_type": "code",
   "execution_count": null,
   "metadata": {
    "id": "ghwn8BKuccEE"
   },
   "outputs": [],
   "source": [
    "from sklearn.model_selection import train_test_split"
   ]
  },
  {
   "cell_type": "code",
   "execution_count": null,
   "metadata": {
    "id": "QF1wRpR7cie2"
   },
   "outputs": [],
   "source": [
    "training_features, testing_features, training_labels, testing_labels = train_test_split(deep_learning_df[features], deep_learning_df['sentiment'], test_size=0.2)"
   ]
  },
  {
   "cell_type": "code",
   "execution_count": null,
   "metadata": {
    "id": "8w9jA8LZdYdU"
   },
   "outputs": [],
   "source": [
    "training_features.to_csv('/content/drive/MyDrive/Professional/Break Through AI/BTAI Verizon Project/training_features.csv')\n",
    "testing_features.to_csv('/content/drive/MyDrive/Professional/Break Through AI/BTAI Verizon Project/testing_features.csv')\n",
    "training_labels.to_csv('/content/drive/MyDrive/Professional/Break Through AI/BTAI Verizon Project/training_labels.csv')\n",
    "testing_labels.to_csv('/content/drive/MyDrive/Professional/Break Through AI/BTAI Verizon Project/testing_labels.csv')"
   ]
  },
  {
   "cell_type": "code",
   "execution_count": null,
   "metadata": {
    "colab": {
     "base_uri": "https://localhost:8080/",
     "height": 393
    },
    "id": "I73R1Rr4c7a2",
    "outputId": "c419387a-c35e-43fc-b346-5c0c309f456e"
   },
   "outputs": [],
   "source": [
    "model.fit(x=training_features, y=training_labels)\n",
    "# print summary\n",
    "print (model.model.summary())"
   ]
  },
  {
   "cell_type": "code",
   "execution_count": null,
   "metadata": {
    "colab": {
     "base_uri": "https://localhost:8080/",
     "height": 253
    },
    "id": "tTwIZU5IdNai",
    "outputId": "ecd36df0-5939-4537-ae57-bca4180608bc"
   },
   "outputs": [
    {
     "data": {
      "text/html": [
       "<div>\n",
       "<style scoped>\n",
       "    .dataframe tbody tr th:only-of-type {\n",
       "        vertical-align: middle;\n",
       "    }\n",
       "\n",
       "    .dataframe tbody tr th {\n",
       "        vertical-align: top;\n",
       "    }\n",
       "\n",
       "    .dataframe thead th {\n",
       "        text-align: right;\n",
       "    }\n",
       "</style>\n",
       "<table border=\"1\" class=\"dataframe\">\n",
       "  <thead>\n",
       "    <tr style=\"text-align: right;\">\n",
       "      <th></th>\n",
       "      <th>0</th>\n",
       "      <th>1</th>\n",
       "      <th>2</th>\n",
       "      <th>3</th>\n",
       "      <th>4</th>\n",
       "      <th>5</th>\n",
       "      <th>6</th>\n",
       "      <th>7</th>\n",
       "      <th>8</th>\n",
       "      <th>9</th>\n",
       "      <th>10</th>\n",
       "      <th>11</th>\n",
       "      <th>12</th>\n",
       "      <th>13</th>\n",
       "      <th>14</th>\n",
       "      <th>15</th>\n",
       "      <th>16</th>\n",
       "      <th>17</th>\n",
       "      <th>18</th>\n",
       "      <th>19</th>\n",
       "      <th>20</th>\n",
       "      <th>21</th>\n",
       "      <th>22</th>\n",
       "      <th>23</th>\n",
       "      <th>24</th>\n",
       "      <th>25</th>\n",
       "      <th>26</th>\n",
       "      <th>27</th>\n",
       "      <th>28</th>\n",
       "      <th>29</th>\n",
       "      <th>30</th>\n",
       "      <th>31</th>\n",
       "      <th>32</th>\n",
       "      <th>33</th>\n",
       "      <th>34</th>\n",
       "      <th>35</th>\n",
       "      <th>36</th>\n",
       "      <th>37</th>\n",
       "      <th>38</th>\n",
       "      <th>39</th>\n",
       "      <th>...</th>\n",
       "      <th>1461</th>\n",
       "      <th>1462</th>\n",
       "      <th>1463</th>\n",
       "      <th>1464</th>\n",
       "      <th>1465</th>\n",
       "      <th>1466</th>\n",
       "      <th>1467</th>\n",
       "      <th>1468</th>\n",
       "      <th>1469</th>\n",
       "      <th>1470</th>\n",
       "      <th>1471</th>\n",
       "      <th>1472</th>\n",
       "      <th>1473</th>\n",
       "      <th>1474</th>\n",
       "      <th>1475</th>\n",
       "      <th>1476</th>\n",
       "      <th>1477</th>\n",
       "      <th>1478</th>\n",
       "      <th>1479</th>\n",
       "      <th>1480</th>\n",
       "      <th>1481</th>\n",
       "      <th>1482</th>\n",
       "      <th>1483</th>\n",
       "      <th>1484</th>\n",
       "      <th>1485</th>\n",
       "      <th>1486</th>\n",
       "      <th>1487</th>\n",
       "      <th>1488</th>\n",
       "      <th>1489</th>\n",
       "      <th>1490</th>\n",
       "      <th>1491</th>\n",
       "      <th>1492</th>\n",
       "      <th>1493</th>\n",
       "      <th>1494</th>\n",
       "      <th>1495</th>\n",
       "      <th>1496</th>\n",
       "      <th>1497</th>\n",
       "      <th>1498</th>\n",
       "      <th>1499</th>\n",
       "      <th>1500</th>\n",
       "    </tr>\n",
       "  </thead>\n",
       "  <tbody>\n",
       "    <tr>\n",
       "      <th>44316</th>\n",
       "      <td>10</td>\n",
       "      <td>14280</td>\n",
       "      <td>2578</td>\n",
       "      <td>103</td>\n",
       "      <td>2</td>\n",
       "      <td>9</td>\n",
       "      <td>1144</td>\n",
       "      <td>438</td>\n",
       "      <td>88</td>\n",
       "      <td>810</td>\n",
       "      <td>2047</td>\n",
       "      <td>25</td>\n",
       "      <td>26</td>\n",
       "      <td>10711</td>\n",
       "      <td>35</td>\n",
       "      <td>354</td>\n",
       "      <td>2149</td>\n",
       "      <td>55</td>\n",
       "      <td>59</td>\n",
       "      <td>1256</td>\n",
       "      <td>253</td>\n",
       "      <td>134</td>\n",
       "      <td>2262</td>\n",
       "      <td>46</td>\n",
       "      <td>23</td>\n",
       "      <td>16</td>\n",
       "      <td>1003</td>\n",
       "      <td>22</td>\n",
       "      <td>10</td>\n",
       "      <td>922</td>\n",
       "      <td>71</td>\n",
       "      <td>3725</td>\n",
       "      <td>10</td>\n",
       "      <td>810</td>\n",
       "      <td>195</td>\n",
       "      <td>2</td>\n",
       "      <td>1799</td>\n",
       "      <td>46</td>\n",
       "      <td>466</td>\n",
       "      <td>14474</td>\n",
       "      <td>...</td>\n",
       "      <td>37</td>\n",
       "      <td>37</td>\n",
       "      <td>37</td>\n",
       "      <td>37</td>\n",
       "      <td>37</td>\n",
       "      <td>37</td>\n",
       "      <td>37</td>\n",
       "      <td>37</td>\n",
       "      <td>37</td>\n",
       "      <td>37</td>\n",
       "      <td>37</td>\n",
       "      <td>37</td>\n",
       "      <td>37</td>\n",
       "      <td>37</td>\n",
       "      <td>37</td>\n",
       "      <td>37</td>\n",
       "      <td>37</td>\n",
       "      <td>37</td>\n",
       "      <td>37</td>\n",
       "      <td>37</td>\n",
       "      <td>37</td>\n",
       "      <td>37</td>\n",
       "      <td>37</td>\n",
       "      <td>37</td>\n",
       "      <td>37</td>\n",
       "      <td>37</td>\n",
       "      <td>37</td>\n",
       "      <td>37</td>\n",
       "      <td>37</td>\n",
       "      <td>37</td>\n",
       "      <td>37</td>\n",
       "      <td>37</td>\n",
       "      <td>37</td>\n",
       "      <td>37</td>\n",
       "      <td>37</td>\n",
       "      <td>37</td>\n",
       "      <td>37</td>\n",
       "      <td>37</td>\n",
       "      <td>37</td>\n",
       "      <td>37</td>\n",
       "    </tr>\n",
       "    <tr>\n",
       "      <th>26114</th>\n",
       "      <td>0</td>\n",
       "      <td>74</td>\n",
       "      <td>1</td>\n",
       "      <td>359</td>\n",
       "      <td>2507</td>\n",
       "      <td>66916</td>\n",
       "      <td>23</td>\n",
       "      <td>1</td>\n",
       "      <td>52041</td>\n",
       "      <td>101</td>\n",
       "      <td>359</td>\n",
       "      <td>9986</td>\n",
       "      <td>66917</td>\n",
       "      <td>2692</td>\n",
       "      <td>12</td>\n",
       "      <td>1</td>\n",
       "      <td>3710</td>\n",
       "      <td>25</td>\n",
       "      <td>3394</td>\n",
       "      <td>22</td>\n",
       "      <td>8</td>\n",
       "      <td>10</td>\n",
       "      <td>493</td>\n",
       "      <td>48</td>\n",
       "      <td>71</td>\n",
       "      <td>10</td>\n",
       "      <td>23197</td>\n",
       "      <td>77</td>\n",
       "      <td>1467</td>\n",
       "      <td>2187</td>\n",
       "      <td>12</td>\n",
       "      <td>234</td>\n",
       "      <td>21</td>\n",
       "      <td>943</td>\n",
       "      <td>149</td>\n",
       "      <td>16</td>\n",
       "      <td>218</td>\n",
       "      <td>146</td>\n",
       "      <td>1430</td>\n",
       "      <td>26</td>\n",
       "      <td>...</td>\n",
       "      <td>37</td>\n",
       "      <td>37</td>\n",
       "      <td>37</td>\n",
       "      <td>37</td>\n",
       "      <td>37</td>\n",
       "      <td>37</td>\n",
       "      <td>37</td>\n",
       "      <td>37</td>\n",
       "      <td>37</td>\n",
       "      <td>37</td>\n",
       "      <td>37</td>\n",
       "      <td>37</td>\n",
       "      <td>37</td>\n",
       "      <td>37</td>\n",
       "      <td>37</td>\n",
       "      <td>37</td>\n",
       "      <td>37</td>\n",
       "      <td>37</td>\n",
       "      <td>37</td>\n",
       "      <td>37</td>\n",
       "      <td>37</td>\n",
       "      <td>37</td>\n",
       "      <td>37</td>\n",
       "      <td>37</td>\n",
       "      <td>37</td>\n",
       "      <td>37</td>\n",
       "      <td>37</td>\n",
       "      <td>37</td>\n",
       "      <td>37</td>\n",
       "      <td>37</td>\n",
       "      <td>37</td>\n",
       "      <td>37</td>\n",
       "      <td>37</td>\n",
       "      <td>37</td>\n",
       "      <td>37</td>\n",
       "      <td>37</td>\n",
       "      <td>37</td>\n",
       "      <td>37</td>\n",
       "      <td>37</td>\n",
       "      <td>37</td>\n",
       "    </tr>\n",
       "    <tr>\n",
       "      <th>9275</th>\n",
       "      <td>29</td>\n",
       "      <td>441</td>\n",
       "      <td>7</td>\n",
       "      <td>582</td>\n",
       "      <td>88</td>\n",
       "      <td>566</td>\n",
       "      <td>328</td>\n",
       "      <td>88</td>\n",
       "      <td>1075</td>\n",
       "      <td>179</td>\n",
       "      <td>10745</td>\n",
       "      <td>2489</td>\n",
       "      <td>101</td>\n",
       "      <td>0</td>\n",
       "      <td>38</td>\n",
       "      <td>16</td>\n",
       "      <td>29</td>\n",
       "      <td>557</td>\n",
       "      <td>10</td>\n",
       "      <td>1075</td>\n",
       "      <td>101</td>\n",
       "      <td>88</td>\n",
       "      <td>785</td>\n",
       "      <td>943</td>\n",
       "      <td>38</td>\n",
       "      <td>6</td>\n",
       "      <td>10</td>\n",
       "      <td>2489</td>\n",
       "      <td>39</td>\n",
       "      <td>366</td>\n",
       "      <td>16</td>\n",
       "      <td>2</td>\n",
       "      <td>4074</td>\n",
       "      <td>39</td>\n",
       "      <td>1639</td>\n",
       "      <td>35</td>\n",
       "      <td>401</td>\n",
       "      <td>1574</td>\n",
       "      <td>1508</td>\n",
       "      <td>1508</td>\n",
       "      <td>...</td>\n",
       "      <td>37</td>\n",
       "      <td>37</td>\n",
       "      <td>37</td>\n",
       "      <td>37</td>\n",
       "      <td>37</td>\n",
       "      <td>37</td>\n",
       "      <td>37</td>\n",
       "      <td>37</td>\n",
       "      <td>37</td>\n",
       "      <td>37</td>\n",
       "      <td>37</td>\n",
       "      <td>37</td>\n",
       "      <td>37</td>\n",
       "      <td>37</td>\n",
       "      <td>37</td>\n",
       "      <td>37</td>\n",
       "      <td>37</td>\n",
       "      <td>37</td>\n",
       "      <td>37</td>\n",
       "      <td>37</td>\n",
       "      <td>37</td>\n",
       "      <td>37</td>\n",
       "      <td>37</td>\n",
       "      <td>37</td>\n",
       "      <td>37</td>\n",
       "      <td>37</td>\n",
       "      <td>37</td>\n",
       "      <td>37</td>\n",
       "      <td>37</td>\n",
       "      <td>37</td>\n",
       "      <td>37</td>\n",
       "      <td>37</td>\n",
       "      <td>37</td>\n",
       "      <td>37</td>\n",
       "      <td>37</td>\n",
       "      <td>37</td>\n",
       "      <td>37</td>\n",
       "      <td>37</td>\n",
       "      <td>37</td>\n",
       "      <td>37</td>\n",
       "    </tr>\n",
       "    <tr>\n",
       "      <th>7271</th>\n",
       "      <td>0</td>\n",
       "      <td>776</td>\n",
       "      <td>1</td>\n",
       "      <td>2746</td>\n",
       "      <td>16</td>\n",
       "      <td>23</td>\n",
       "      <td>1400</td>\n",
       "      <td>109</td>\n",
       "      <td>10</td>\n",
       "      <td>1953</td>\n",
       "      <td>29</td>\n",
       "      <td>295</td>\n",
       "      <td>166</td>\n",
       "      <td>4391</td>\n",
       "      <td>16</td>\n",
       "      <td>29</td>\n",
       "      <td>248</td>\n",
       "      <td>246</td>\n",
       "      <td>354</td>\n",
       "      <td>46</td>\n",
       "      <td>10</td>\n",
       "      <td>28213</td>\n",
       "      <td>966</td>\n",
       "      <td>46</td>\n",
       "      <td>10</td>\n",
       "      <td>1733</td>\n",
       "      <td>156</td>\n",
       "      <td>617</td>\n",
       "      <td>251</td>\n",
       "      <td>10</td>\n",
       "      <td>1733</td>\n",
       "      <td>1028</td>\n",
       "      <td>16</td>\n",
       "      <td>469</td>\n",
       "      <td>10</td>\n",
       "      <td>411</td>\n",
       "      <td>1570</td>\n",
       "      <td>308</td>\n",
       "      <td>108</td>\n",
       "      <td>109</td>\n",
       "      <td>...</td>\n",
       "      <td>37</td>\n",
       "      <td>37</td>\n",
       "      <td>37</td>\n",
       "      <td>37</td>\n",
       "      <td>37</td>\n",
       "      <td>37</td>\n",
       "      <td>37</td>\n",
       "      <td>37</td>\n",
       "      <td>37</td>\n",
       "      <td>37</td>\n",
       "      <td>37</td>\n",
       "      <td>37</td>\n",
       "      <td>37</td>\n",
       "      <td>37</td>\n",
       "      <td>37</td>\n",
       "      <td>37</td>\n",
       "      <td>37</td>\n",
       "      <td>37</td>\n",
       "      <td>37</td>\n",
       "      <td>37</td>\n",
       "      <td>37</td>\n",
       "      <td>37</td>\n",
       "      <td>37</td>\n",
       "      <td>37</td>\n",
       "      <td>37</td>\n",
       "      <td>37</td>\n",
       "      <td>37</td>\n",
       "      <td>37</td>\n",
       "      <td>37</td>\n",
       "      <td>37</td>\n",
       "      <td>37</td>\n",
       "      <td>37</td>\n",
       "      <td>37</td>\n",
       "      <td>37</td>\n",
       "      <td>37</td>\n",
       "      <td>37</td>\n",
       "      <td>37</td>\n",
       "      <td>37</td>\n",
       "      <td>37</td>\n",
       "      <td>37</td>\n",
       "    </tr>\n",
       "    <tr>\n",
       "      <th>60709</th>\n",
       "      <td>10</td>\n",
       "      <td>2029</td>\n",
       "      <td>3061</td>\n",
       "      <td>1499</td>\n",
       "      <td>1</td>\n",
       "      <td>2</td>\n",
       "      <td>2709</td>\n",
       "      <td>776</td>\n",
       "      <td>22</td>\n",
       "      <td>6</td>\n",
       "      <td>2</td>\n",
       "      <td>1234</td>\n",
       "      <td>5407</td>\n",
       "      <td>108</td>\n",
       "      <td>10</td>\n",
       "      <td>1765</td>\n",
       "      <td>449</td>\n",
       "      <td>499</td>\n",
       "      <td>278</td>\n",
       "      <td>59</td>\n",
       "      <td>211</td>\n",
       "      <td>654</td>\n",
       "      <td>500</td>\n",
       "      <td>10389</td>\n",
       "      <td>776</td>\n",
       "      <td>1</td>\n",
       "      <td>2769</td>\n",
       "      <td>5535</td>\n",
       "      <td>25</td>\n",
       "      <td>10</td>\n",
       "      <td>15</td>\n",
       "      <td>4552</td>\n",
       "      <td>3443</td>\n",
       "      <td>8105</td>\n",
       "      <td>6</td>\n",
       "      <td>8105</td>\n",
       "      <td>8103</td>\n",
       "      <td>776</td>\n",
       "      <td>22</td>\n",
       "      <td>6</td>\n",
       "      <td>...</td>\n",
       "      <td>37</td>\n",
       "      <td>37</td>\n",
       "      <td>37</td>\n",
       "      <td>37</td>\n",
       "      <td>37</td>\n",
       "      <td>37</td>\n",
       "      <td>37</td>\n",
       "      <td>37</td>\n",
       "      <td>37</td>\n",
       "      <td>37</td>\n",
       "      <td>37</td>\n",
       "      <td>37</td>\n",
       "      <td>37</td>\n",
       "      <td>37</td>\n",
       "      <td>37</td>\n",
       "      <td>37</td>\n",
       "      <td>37</td>\n",
       "      <td>37</td>\n",
       "      <td>37</td>\n",
       "      <td>37</td>\n",
       "      <td>37</td>\n",
       "      <td>37</td>\n",
       "      <td>37</td>\n",
       "      <td>37</td>\n",
       "      <td>37</td>\n",
       "      <td>37</td>\n",
       "      <td>37</td>\n",
       "      <td>37</td>\n",
       "      <td>37</td>\n",
       "      <td>37</td>\n",
       "      <td>37</td>\n",
       "      <td>37</td>\n",
       "      <td>37</td>\n",
       "      <td>37</td>\n",
       "      <td>37</td>\n",
       "      <td>37</td>\n",
       "      <td>37</td>\n",
       "      <td>37</td>\n",
       "      <td>37</td>\n",
       "      <td>37</td>\n",
       "    </tr>\n",
       "  </tbody>\n",
       "</table>\n",
       "<p>5 rows × 1501 columns</p>\n",
       "</div>"
      ],
      "text/plain": [
       "       0      1     2     3     4      5     ...  1495  1496  1497  1498  1499  1500\n",
       "44316    10  14280  2578   103     2      9  ...    37    37    37    37    37    37\n",
       "26114     0     74     1   359  2507  66916  ...    37    37    37    37    37    37\n",
       "9275     29    441     7   582    88    566  ...    37    37    37    37    37    37\n",
       "7271      0    776     1  2746    16     23  ...    37    37    37    37    37    37\n",
       "60709    10   2029  3061  1499     1      2  ...    37    37    37    37    37    37\n",
       "\n",
       "[5 rows x 1501 columns]"
      ]
     },
     "execution_count": 58,
     "metadata": {},
     "output_type": "execute_result"
    }
   ],
   "source": [
    "training_features.head()"
   ]
  },
  {
   "cell_type": "code",
   "execution_count": null,
   "metadata": {
    "id": "NT8uposGetYd"
   },
   "outputs": [],
   "source": []
  }
 ],
 "metadata": {
  "accelerator": "GPU",
  "colab": {
   "collapsed_sections": [
    "2LqH64B7NjrV",
    "FFP7i0o1iwP3",
    "Yy7XWhBZTPuK",
    "7NWVXRyQIEAA",
    "n4p4hVy5PpsW"
   ],
   "name": "EDA.ipynb",
   "provenance": []
  },
  "kernelspec": {
   "display_name": "Python 3",
   "language": "python",
   "name": "python3"
  },
  "language_info": {
   "codemirror_mode": {
    "name": "ipython",
    "version": 3
   },
   "file_extension": ".py",
   "mimetype": "text/x-python",
   "name": "python",
   "nbconvert_exporter": "python",
   "pygments_lexer": "ipython3",
   "version": "3.7.7"
  }
 },
 "nbformat": 4,
 "nbformat_minor": 1
}
